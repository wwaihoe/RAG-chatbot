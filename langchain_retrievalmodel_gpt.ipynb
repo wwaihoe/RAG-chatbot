{
 "cells": [
  {
   "cell_type": "code",
   "execution_count": null,
   "id": "adfad701",
   "metadata": {},
   "outputs": [],
   "source": [
    "import os"
   ]
  },
  {
   "cell_type": "code",
   "execution_count": 2,
   "id": "fe9ee280",
   "metadata": {},
   "outputs": [],
   "source": [
    "OPENAI_API_KEY = input(\"Enter OpenAI API Key\")"
   ]
  },
  {
   "cell_type": "code",
   "execution_count": 6,
   "id": "ff0566e2",
   "metadata": {},
   "outputs": [],
   "source": [
    "os.environ[\"OPENAI_API_KEY\"] = OPENAI_API_KEY"
   ]
  },
  {
   "cell_type": "code",
   "execution_count": 3,
   "id": "8397e54c-2ee9-4e3a-b575-13b78cf584e0",
   "metadata": {
    "tags": []
   },
   "outputs": [],
   "source": [
    "from langchain.chains import LLMChain\n",
    "from langchain.chains import RetrievalQA\n",
    "from langchain.chains.question_answering import load_qa_chain\n",
    "from langchain.vectorstores import Chroma\n",
    "from langchain.docstore.document import Document\n",
    "from langchain.prompts import PromptTemplate\n",
    "from langchain.indexes.vectorstore import VectorstoreIndexCreator"
   ]
  },
  {
   "cell_type": "markdown",
   "id": "a8e12cf3-3051-4f94-89ba-1d85d6b0dabc",
   "metadata": {},
   "source": [
    "#### Load and split document and create a vector store with word embeddings"
   ]
  },
  {
   "cell_type": "code",
   "execution_count": 4,
   "id": "4d5c6cd6-bcb5-46a9-83e1-829fd0d6d2a1",
   "metadata": {
    "tags": []
   },
   "outputs": [],
   "source": [
    "#load embedding model\n",
    "from langchain.embeddings import HuggingFaceEmbeddings\n",
    "\n",
    "import torch\n",
    "#Use GPU if available\n",
    "if torch.cuda.is_available():\n",
    "    device = 'cuda'\n",
    "else:\n",
    "    device = 'cpu'\n",
    "\n",
    "model_name = \"intfloat/e5-large-v2\"\n",
    "model_kwargs = {'device': device}\n",
    "encode_kwargs = {'normalize_embeddings': False}\n",
    "embeddings = HuggingFaceEmbeddings(\n",
    "    model_name=model_name,\n",
    "    model_kwargs=model_kwargs,\n",
    "    encode_kwargs=encode_kwargs\n",
    ")"
   ]
  },
  {
   "cell_type": "code",
   "execution_count": 78,
   "id": "006c9b08-79b1-474e-997e-f4299e18d386",
   "metadata": {
    "tags": []
   },
   "outputs": [
    {
     "name": "stdout",
     "output_type": "stream",
     "text": [
      "Microphone*\n",
      " IR camera* / Camera*\n",
      "Webcam privacy shutter*\n",
      " Touch screen*\n",
      "Power button\n",
      " TrackPoint pointing stick\n",
      "Fingerprint reader*\n",
      " Trackpad\n",
      "NFC label*\n",
      " TrackPoint buttons\n",
      "Speaker\n",
      "* for selected models\n",
      "Webcam privacy shutter\n",
      "Slide the webcam privacy shutter to cover or uncover the camera lens. It is designed to protect your privacy.\n",
      "Power button\n",
      "Press to turn on the computer or put the computer to sleep mode.\n",
      "To turn off the computer, open the Start menu, click \n",
      " Power, and then select Shut down.\n",
      "The indicator in the power button shows the system status of your computer. \n",
      "• Blinking for three times: The computer is initially connected to power.\n",
      "• On: The computer is on.\n",
      "• Off: The computer is off or in hibernation mode.\n",
      "• Blinking rapidly (for Intel models): The computer is entering sleep or hibernation mode.\n",
      "• Blinking rapidly (for AMD models): The computer is entering hibernation mode.\n",
      "• Blinking slowly: The computer is in sleep mode.\n",
      "Related topics\n",
      "• “Log in with your face ID (for selected models)” on page 31\n",
      "• “Smart features (for selected models)” on page 19\n",
      "• “Use the touch screen (for selected models)” on page 14\n",
      "• “Use the TrackPoint pointing device” on page 12\n",
      "• “Use the RFID feature (for selected Intel models)” on page 27\n",
      "• “Log in with your fingerprint (for selected models)” on page 31\n",
      "• “Use the trackpad” on page 13\n",
      "• “Set up an NFC connection (for selected models)” on page 25\n",
      "Chapter 1.Meet your computer 3\n"
     ]
    }
   ],
   "source": [
    "#split document into chunks of text\n",
    "from PyPDF2 import PdfReader\n",
    "\n",
    "reader = PdfReader(\"thinkpad_t14_gen_2.pdf\")\n",
    "\n",
    "print(reader.pages[8].extract_text())"
   ]
  },
  {
   "cell_type": "code",
   "execution_count": 7,
   "id": "4ee3b6ef",
   "metadata": {},
   "outputs": [],
   "source": [
    "import re\n",
    "\n",
    "page_delimiter = '\\n'\n",
    "docu = \"\"\n",
    "#exclude cover page and table of contexts\n",
    "for page in reader.pages[6:]:\n",
    "    page_text = page.extract_text()\n",
    "    #remove page number and chapter at bottom of page\n",
    "    page_text = re.sub(r\"\\n.*$\", \"\", page_text)\n",
    "    page_text += page_delimiter\n",
    "    docu += page_text"
   ]
  },
  {
   "cell_type": "code",
   "execution_count": 8,
   "id": "0ee7dcdc",
   "metadata": {},
   "outputs": [
    {
     "name": "stdout",
     "output_type": "stream",
     "text": [
      "Chapter 1.Meet your computer\n",
      "ThinkPad T14 Gen 2 and ThinkPad P14s Gen 2 might be shipped with different microprocessors, namely \n",
      "Intel® and Advanced Micro Devices (AMD). ThinkPad T15 Gen 2 and ThinkPad P15s Gen 2 are shipped with \n",
      "Intel microprocessors. Hereby Intel models and AMD models are used to distinguish computer models with \n",
      "different microprocessors.\n",
      "Front view\n",
      "T14 Gen 2 and P14s Gen 2\n",
      "Microphone*\n",
      " Infrared (IR) camera* / Camera*\n",
      "Webcam privacy shutter*\n",
      " Touch screen*\n",
      "Power button\n",
      " TrackPoint® pointing stick\n",
      "RFID label1\n",
      " Fingerprint reader*\n",
      "Trackpad\n",
      " Near field communication (NFC) label*\n",
      "TrackPoint buttons\n",
      " Speaker\n",
      "* for selected models\n",
      "1 for selected Intel models\n",
      "T15 Gen 2 and P15s Gen 2\n",
      "Microphone*\n",
      " IR camera* / Camera*\n",
      "Webcam privacy shutter*\n",
      " Touch screen*\n",
      "Power button\n",
      " TrackPoint pointing stick\n",
      "Fingerprint reader*\n",
      " Trackpad\n",
      "NFC label*\n",
      " TrackPoint buttons\n",
      "Speaker\n",
      "* for selected models\n",
      "Webcam privacy shutter\n",
      "Slide the webcam privacy shutter to cover or uncover the camera le\n"
     ]
    }
   ],
   "source": [
    "print(docu[:1000])"
   ]
  },
  {
   "cell_type": "code",
   "execution_count": 9,
   "id": "9180650b-d77d-4a24-9a59-1580280aa454",
   "metadata": {
    "tags": []
   },
   "outputs": [],
   "source": [
    "#split document using recursive splitter\n",
    "from langchain.text_splitter import RecursiveCharacterTextSplitter\n",
    "text_splitter = RecursiveCharacterTextSplitter(\n",
    "    # Set a really small chunk size, just to show.\n",
    "    chunk_size = 1500,\n",
    "    chunk_overlap  = 500,\n",
    "    length_function = len,\n",
    ")\n",
    "\n",
    "texts = text_splitter.split_text(docu)"
   ]
  },
  {
   "cell_type": "code",
   "execution_count": 10,
   "id": "5dcd050d",
   "metadata": {},
   "outputs": [
    {
     "name": "stdout",
     "output_type": "stream",
     "text": [
      "79\n"
     ]
    }
   ],
   "source": [
    "print(len(texts))"
   ]
  },
  {
   "cell_type": "code",
   "execution_count": 11,
   "id": "d7c9d837",
   "metadata": {},
   "outputs": [
    {
     "name": "stdout",
     "output_type": "stream",
     "text": [
      "• Some gestures are not available if the last action was done from the TrackPoint pointing device.\n",
      "• Some gestures are only available when you are using certain apps.\n",
      "• If the trackpad surface is stained with oil, turn off the computer first. Then, gently wipe the trackpad \n",
      "surface with a soft and lint-free cloth moistened with lukewarm water or computer cleaner.\n",
      "For more gestures, see the help information of the pointing device.\n",
      "Disable the trackpad\n",
      "The trackpad is active by default. To disable the device: \n",
      "1. Open the Start menu, and then click Settings ➙ Devices ➙ Touchpad.\n",
      "2. In the Touchpad section, turn off the Touchpad control.\n",
      "Use the touch screen (for selected models)\n",
      "If your computer display supports the multi-touch function, you can navigate the screen with simple touch \n",
      "gestures.\n",
      "Note: Some gestures might not be available when you are using certain apps.\n",
      "Tap once to single click Tap twice quickly to double-click\n",
      "Tap and hold to right-click Slide to scroll through items\n",
      "Zoom out Zoom in\n",
      "Swipe from the left: view all open windows Swipe from the right: open action center\n",
      "Swipe downwards shortly: show title bar\n",
      "Swipe downwards: close the current appDrag\n",
      "Maintenance tips:\n",
      "• Turn off the computer before cleaning the touch screen.\n",
      "• Use a dry, soft, and lint-free cloth or a piece of absorbent cotton to remove fingerprints or dust from the \n",
      "touch screen. Do not apply solvents to the cloth.\n"
     ]
    }
   ],
   "source": [
    "print(texts[10])"
   ]
  },
  {
   "cell_type": "code",
   "execution_count": 12,
   "id": "7f446011",
   "metadata": {},
   "outputs": [
    {
     "name": "stdout",
     "output_type": "stream",
     "text": [
      "Tap and hold to right-click Slide to scroll through items\n",
      "Zoom out Zoom in\n",
      "Swipe from the left: view all open windows Swipe from the right: open action center\n",
      "Swipe downwards shortly: show title bar\n",
      "Swipe downwards: close the current appDrag\n",
      "Maintenance tips:\n",
      "• Turn off the computer before cleaning the touch screen.\n",
      "• Use a dry, soft, and lint-free cloth or a piece of absorbent cotton to remove fingerprints or dust from the \n",
      "touch screen. Do not apply solvents to the cloth.\n",
      "• The touch screen is a glass panel covered with a plastic film. Do not apply pressure or place any metallic \n",
      "object on the screen, which might damage the touch panel or cause it to malfunction.\n",
      "• Do not use fingernails, gloved fingers, or inanimate objects for input on the screen.\n",
      "• Regularly calibrate the accuracy of the finger input to avoid a discrepancy.\n",
      "Connect to an external display\n",
      "Connect your computer to a projector or a monitor to give presentations or expand your workspace.\n",
      "Connect to a wired display\n",
      "If your computer cannot detect the external display, right-click a blank area on the desktop and select \n",
      "display settings. Then follow the on-screen instructions to detect the external display.\n",
      "The following table lists the supported maximum resolution of the external display. \n",
      "Connect the external display to Supported resolution\n",
      "the USB-C (Thunderbolt 4) connector (for Intel models) Up to 5120 x 3200 pixels / 60 Hz\n",
      "the USB-C (3.2 Gen 2) connector (for AMD models) Up to 5120 x 2880 pixels / 60 Hz\n"
     ]
    }
   ],
   "source": [
    "print(texts[11])"
   ]
  },
  {
   "cell_type": "code",
   "execution_count": 13,
   "id": "90081292-b9f8-4992-b342-8455b2450293",
   "metadata": {
    "tags": []
   },
   "outputs": [],
   "source": [
    "#create embedding database using Chroma\n",
    "docsearch = Chroma.from_texts(texts, embeddings, persist_directory=\"thinkpad_chromadb\")\n",
    "docsearch.persist()"
   ]
  },
  {
   "cell_type": "code",
   "execution_count": 10,
   "id": "e56861e6-cbf2-47c9-b7d3-42b9d9d43df3",
   "metadata": {
    "tags": []
   },
   "outputs": [],
   "source": [
    "#lood db if it has already been saved locally\n",
    "docsearch = Chroma(persist_directory=\"thinkpad_chromadb\", embedding_function=embeddings)"
   ]
  },
  {
   "cell_type": "markdown",
   "id": "f611a819-55ee-4ec0-80fc-31f002449787",
   "metadata": {},
   "source": [
    "#### Load LLM model"
   ]
  },
  {
   "cell_type": "markdown",
   "id": "fc99bad3",
   "metadata": {},
   "source": [
    "##### Using API for GPT model"
   ]
  },
  {
   "cell_type": "code",
   "execution_count": 8,
   "id": "0f97781b-d12b-4000-b685-5eaa73aa735b",
   "metadata": {
    "tags": []
   },
   "outputs": [
    {
     "name": "stderr",
     "output_type": "stream",
     "text": [
      "c:\\Users\\waiho\\Documents\\Python venv\\RAG_chatbot\\RAG_chatbot_env\\lib\\site-packages\\langchain\\llms\\openai.py:801: UserWarning: You are trying to use a chat model. This way of initializing it is no longer supported. Instead, please use: `from langchain.chat_models import ChatOpenAI`\n",
      "  warnings.warn(\n"
     ]
    }
   ],
   "source": [
    "from langchain.llms import OpenAI\n",
    "llm = OpenAI(model_name=\"gpt-3.5-turbo\")"
   ]
  },
  {
   "cell_type": "markdown",
   "id": "9a4139c5-a8d7-430d-b62f-5ac830bcb035",
   "metadata": {},
   "source": [
    "### Retrieval QA Chain"
   ]
  },
  {
   "cell_type": "code",
   "execution_count": 11,
   "id": "4a5d0dbf-749b-455e-b862-7a5f8ae84423",
   "metadata": {
    "tags": []
   },
   "outputs": [],
   "source": [
    "query = \"How to disable fast startup on my thinkpad?\"\n",
    "#search for the most relevant chunk based on cosine similarity(for Chroma) or Euclidean distance(for FAISS) - results are the same\n",
    "#k is the number of documents to retrieve\n",
    "docs = docsearch.similarity_search(query, k=1)"
   ]
  },
  {
   "cell_type": "code",
   "execution_count": 12,
   "id": "b51ab37d-c328-4acf-ab9e-a0f00b9d55fe",
   "metadata": {
    "tags": []
   },
   "outputs": [
    {
     "name": "stdout",
     "output_type": "stream",
     "text": [
      "• Always On USB 3.2 connector Gen 1 board\n",
      "• Always On USB 3.2 connector Gen 1 board bracket\n",
      "• Coin-cell battery\n",
      "• Keyboard\n",
      "• Memory module*\n",
      "• Speaker assembly\n",
      "• Wireless WAN card*\n",
      "* for selected models\n",
      "Note: Replacement of any parts not listed above, including the built-in rechargeable battery, must be done \n",
      "by a Lenovo-authorized repair facility or technician. Go to https://support.lenovo.com/partnerlocation for more \n",
      "information.\n",
      "Disable Fast Startup and the built-in battery\n",
      "Before replacing any CRU, ensure that you disable Fast Startup first and then disable the built-in battery.\n",
      "To disable Fast Startup: \n",
      "1. Go to Control Panel and view by Large icons or Small icons.\n",
      "2. Click Power Options, and then click Choose what the power buttons do on the left pane.\n",
      "3. Click Change settings that are currently unavailable at the top.\n",
      "4. If prompted by User Account Control (UAC), click Yes.\n",
      "5. Clear the Turn on fast startup check box, and then click Save changes.\n",
      "To disable the built-in battery: \n",
      "1. Restart your computer. When the logo screen is displayed, immediately press F1 to enter the UEFI BIOS \n",
      "menu.\n",
      "2. Select Config ➙ Power. The Power submenu is displayed.\n",
      "3. Select Disable Built-in Battery and press Enter.\n",
      "4. Select Yes in the Setup Confirmation window. The built-in battery is disabled and the computer turns off \n",
      "automatically. Wait three to five minutes to let the computer cool.\n",
      "Replace a CRU\n",
      "Follow the replacement procedure to replace a CRU.\n"
     ]
    }
   ],
   "source": [
    "#most similar document\n",
    "print(docs[0].page_content)"
   ]
  },
  {
   "cell_type": "code",
   "execution_count": 13,
   "id": "9ee58f77-8ca3-42cb-aa6f-532c4815e9f6",
   "metadata": {
    "tags": []
   },
   "outputs": [],
   "source": [
    "#create custom prompt\n",
    "from langchain.prompts import PromptTemplate\n",
    "\n",
    "question_prompt_template = \"\"\"Use the context provided to answer the question. If the context provided does not contain sufficient information to answer the question, say \"Sorry, I do not have enough knowledge to answer your question.\".\n",
    "\n",
    "Context:\n",
    "{context}\n",
    "\n",
    "Question:\n",
    "{question}\n",
    "\n",
    "Answer:\n",
    "\"\"\"\n",
    "\n",
    "QUESTION_PROMPT = PromptTemplate(\n",
    "    template=question_prompt_template, input_variables=[\"context\", \"question\"]\n",
    ")"
   ]
  },
  {
   "cell_type": "code",
   "execution_count": 14,
   "id": "d3a028f6-ed77-4e2d-97c1-b750217d573e",
   "metadata": {
    "tags": []
   },
   "outputs": [],
   "source": [
    "qa = load_qa_chain(llm=llm, chain_type=\"stuff\", prompt=QUESTION_PROMPT)"
   ]
  },
  {
   "cell_type": "code",
   "execution_count": 15,
   "id": "9d62441a-0cbc-41ae-b681-eef837ac176d",
   "metadata": {
    "tags": []
   },
   "outputs": [],
   "source": [
    "output = qa({\"input_documents\": docs, \"question\": query}, return_only_outputs=False)"
   ]
  },
  {
   "cell_type": "code",
   "execution_count": 16,
   "id": "afa31859-251b-4ab4-b8eb-713a89bed595",
   "metadata": {
    "tags": []
   },
   "outputs": [
    {
     "name": "stdout",
     "output_type": "stream",
     "text": [
      "How to disable fast startup on my thinkpad?\n",
      "To disable Fast Startup on your ThinkPad, follow these steps:\n",
      "\n",
      "1. Go to Control Panel and view by Large icons or Small icons.\n",
      "2. Click Power Options, and then click Choose what the power buttons do on the left pane.\n",
      "3. Click Change settings that are currently unavailable at the top.\n",
      "4. If prompted by User Account Control (UAC), click Yes.\n",
      "5. Clear the Turn on fast startup check box, and then click Save changes.\n"
     ]
    }
   ],
   "source": [
    "print(query)\n",
    "print(output[\"output_text\"])"
   ]
  },
  {
   "cell_type": "code",
   "execution_count": 17,
   "id": "77983a69-db29-4357-aa40-6afc9efacd0e",
   "metadata": {
    "tags": []
   },
   "outputs": [
    {
     "name": "stdout",
     "output_type": "stream",
     "text": [
      "1\n",
      "[Document(page_content='• Always On USB 3.2 connector Gen 1 board\\n• Always On USB 3.2 connector Gen 1 board bracket\\n• Coin-cell battery\\n• Keyboard\\n• Memory module*\\n• Speaker assembly\\n• Wireless WAN card*\\n* for selected models\\nNote: Replacement of any parts not listed above, including the built-in rechargeable battery, must be done \\nby a Lenovo-authorized repair facility or technician. Go to https://support.lenovo.com/partnerlocation for more \\ninformation.\\nDisable Fast Startup and the built-in battery\\nBefore replacing any CRU, ensure that you disable Fast Startup first and then disable the built-in battery.\\nTo disable Fast Startup: \\n1. Go to Control Panel and view by Large icons or Small icons.\\n2. Click Power Options, and then click Choose what the power buttons do on the left pane.\\n3. Click Change settings that are currently unavailable at the top.\\n4. If prompted by User Account Control (UAC), click Yes.\\n5. Clear the Turn on fast startup check box, and then click Save changes.\\nTo disable the built-in battery: \\n1. Restart your computer. When the logo screen is displayed, immediately press F1 to enter the UEFI BIOS \\nmenu.\\n2. Select Config ➙ Power. The Power submenu is displayed.\\n3. Select Disable Built-in Battery and press Enter.\\n4. Select Yes in the Setup Confirmation window. The built-in battery is disabled and the computer turns off \\nautomatically. Wait three to five minutes to let the computer cool.\\nReplace a CRU\\nFollow the replacement procedure to replace a CRU.', metadata={})]\n"
     ]
    }
   ],
   "source": [
    "#documents used as context\n",
    "print(len(output[\"input_documents\"]))\n",
    "print(output[\"input_documents\"])"
   ]
  },
  {
   "cell_type": "markdown",
   "id": "b1aa5425-e11c-441d-83ae-2d72de30c0c4",
   "metadata": {},
   "source": [
    "### Incorporating search tool"
   ]
  },
  {
   "cell_type": "code",
   "execution_count": 18,
   "id": "4c2c748b-cd60-4382-a48c-f876196846dc",
   "metadata": {
    "tags": []
   },
   "outputs": [],
   "source": [
    "from langchain.utilities import GoogleSerperAPIWrapper\n"
   ]
  },
  {
   "cell_type": "code",
   "execution_count": 19,
   "id": "6b69876e",
   "metadata": {},
   "outputs": [],
   "source": [
    "SERPER_API_KEY = input(\"Enter Serper API key\")"
   ]
  },
  {
   "cell_type": "code",
   "execution_count": 20,
   "id": "14feecf1",
   "metadata": {},
   "outputs": [],
   "source": [
    "os.environ[\"SERPER_API_KEY\"] = SERPER_API_KEY"
   ]
  },
  {
   "cell_type": "code",
   "execution_count": 21,
   "id": "87ccb8e6-cfb4-4942-a8bc-2675c3fd27bd",
   "metadata": {
    "tags": []
   },
   "outputs": [],
   "source": [
    "#Google search\n",
    "search = GoogleSerperAPIWrapper()"
   ]
  },
  {
   "cell_type": "code",
   "execution_count": 24,
   "id": "3ccc8939-8798-4db0-8480-451384cdda9b",
   "metadata": {
    "tags": []
   },
   "outputs": [
    {
     "name": "stdout",
     "output_type": "stream",
     "text": [
      "Method 1  1. Search for and open Control Panel using the search feature.  2. Choose View by: Category, then select Hardware and Sound.  3. Select Power Options.  4. Select Choose what the power buttons do.  5. Click Change settings that are currently unavailable.  6. Check or uncheck turn on fast startup to enable or disable the feature.\n"
     ]
    }
   ],
   "source": [
    "search_result = search.run(query)\n",
    "print(search_result)"
   ]
  },
  {
   "cell_type": "code",
   "execution_count": 22,
   "id": "d44022ce-ce6d-4011-b27b-7e061916490d",
   "metadata": {
    "tags": []
   },
   "outputs": [],
   "source": [
    "combine_prompt_template = \"\"\"Provide a summary of the documents and search results to answer the question. If the context provided does not contain sufficient information to answer the question, say \"Sorry, I do not have enough knowledge to answer your question.\".\n",
    "\n",
    "Documents:\n",
    "{documents}\n",
    "\n",
    "Search results:\n",
    "{query}\n",
    "{search}\n",
    "\n",
    "Question:\n",
    "{query}\n",
    "\n",
    "Answer:\n",
    "\"\"\"\n",
    "\n",
    "COMBINE_PROMPT = PromptTemplate(\n",
    "    template=combine_prompt_template, input_variables=[\"documents\", \"search\", \"query\"]\n",
    ")"
   ]
  },
  {
   "cell_type": "code",
   "execution_count": 23,
   "id": "ed7bfe91-21f6-4d1e-ae53-ebc83451b1b7",
   "metadata": {
    "collapsed": true,
    "jupyter": {
     "outputs_hidden": true
    },
    "tags": []
   },
   "outputs": [
    {
     "name": "stdout",
     "output_type": "stream",
     "text": [
      "• Always On USB 3.2 connector Gen 1 board\n",
      "• Always On USB 3.2 connector Gen 1 board bracket\n",
      "• Coin-cell battery\n",
      "• Keyboard\n",
      "• Memory module*\n",
      "• Speaker assembly\n",
      "• Wireless WAN card*\n",
      "* for selected models\n",
      "Note: Replacement of any parts not listed above, including the built-in rechargeable battery, must be done \n",
      "by a Lenovo-authorized repair facility or technician. Go to https://support.lenovo.com/partnerlocation for more \n",
      "information.\n",
      "Disable Fast Startup and the built-in battery\n",
      "Before replacing any CRU, ensure that you disable Fast Startup first and then disable the built-in battery.\n",
      "To disable Fast Startup: \n",
      "1. Go to Control Panel and view by Large icons or Small icons.\n",
      "2. Click Power Options, and then click Choose what the power buttons do on the left pane.\n",
      "3. Click Change settings that are currently unavailable at the top.\n",
      "4. If prompted by User Account Control (UAC), click Yes.\n",
      "5. Clear the Turn on fast startup check box, and then click Save changes.\n",
      "To disable the built-in battery: \n",
      "1. Restart your computer. When the logo screen is displayed, immediately press F1 to enter the UEFI BIOS \n",
      "menu.\n",
      "2. Select Config ➙ Power. The Power submenu is displayed.\n",
      "3. Select Disable Built-in Battery and press Enter.\n",
      "4. Select Yes in the Setup Confirmation window. The built-in battery is disabled and the computer turns off \n",
      "automatically. Wait three to five minutes to let the computer cool.\n",
      "Replace a CRU\n",
      "Follow the replacement procedure to replace a CRU.\n",
      "\n"
     ]
    }
   ],
   "source": [
    "documents = ''\n",
    "\n",
    "for doc in docs:\n",
    "    documents += f\"{doc.page_content}\\n\"\n",
    "\n",
    "print(documents)"
   ]
  },
  {
   "cell_type": "code",
   "execution_count": 25,
   "id": "df31ba51-2602-4901-8afa-f31ffcf934d4",
   "metadata": {
    "tags": []
   },
   "outputs": [],
   "source": [
    "combine_chain = LLMChain(llm=llm, prompt=COMBINE_PROMPT)"
   ]
  },
  {
   "cell_type": "code",
   "execution_count": 26,
   "id": "e79344e9-627d-439d-83d8-ce64fa89a90f",
   "metadata": {
    "tags": []
   },
   "outputs": [],
   "source": [
    "output = combine_chain({'documents': documents, 'search': search_result, \"query\": query})"
   ]
  },
  {
   "cell_type": "code",
   "execution_count": 27,
   "id": "2d5d9a36-eb99-4cf1-b75f-b6bdd788ad70",
   "metadata": {
    "tags": []
   },
   "outputs": [
    {
     "name": "stdout",
     "output_type": "stream",
     "text": [
      "To disable fast startup on a ThinkPad, follow these steps:\n",
      "1. Go to Control Panel and select \"Power Options.\"\n",
      "2. Click on \"Choose what the power buttons do\" on the left pane.\n",
      "3. Click on \"Change settings that are currently unavailable\" at the top.\n",
      "4. If prompted by User Account Control, click \"Yes.\"\n",
      "5. Clear the \"Turn on fast startup\" checkbox.\n",
      "6. Click \"Save changes.\"\n"
     ]
    }
   ],
   "source": [
    "print(output['text'])"
   ]
  },
  {
   "cell_type": "markdown",
   "id": "3a74f4c1-45fe-4f90-a999-e29b7ae32f29",
   "metadata": {},
   "source": [
    "### Incorporating Agent (only works well with OpenAI GPT models)"
   ]
  },
  {
   "cell_type": "code",
   "execution_count": 28,
   "id": "9e15bc54-8ef9-4f29-880d-b78c351f926f",
   "metadata": {
    "tags": []
   },
   "outputs": [],
   "source": [
    "from langchain.agents import initialize_agent, Tool\n",
    "from langchain.agents import AgentType\n",
    "from langchain.tools import BaseTool"
   ]
  },
  {
   "cell_type": "code",
   "execution_count": 29,
   "id": "6edfa0bf-2643-467a-a15d-24a7faae8c47",
   "metadata": {
    "tags": []
   },
   "outputs": [],
   "source": [
    "qatool = RetrievalQA.from_chain_type(llm=llm, chain_type=\"stuff\", retriever=docsearch.as_retriever(search_kwargs={\"k\":1}), chain_type_kwargs={\"prompt\": QUESTION_PROMPT})"
   ]
  },
  {
   "cell_type": "code",
   "execution_count": 30,
   "id": "9a609657-f67c-45a0-8fe9-b22eb3976d16",
   "metadata": {
    "tags": []
   },
   "outputs": [],
   "source": [
    "from langchain.utilities import WikipediaAPIWrapper\n",
    "wikipedia = WikipediaAPIWrapper()"
   ]
  },
  {
   "cell_type": "code",
   "execution_count": 31,
   "id": "a0ec6289-8ea0-41cf-90a3-4c7d40a149a5",
   "metadata": {
    "tags": []
   },
   "outputs": [],
   "source": [
    "from langchain.agents import load_tools\n",
    "\n",
    "tools = load_tools([\"llm-math\"], llm=llm)\n",
    "\n",
    "tools.append(Tool(\n",
    "        name=\"Retrieval QA\",\n",
    "        func=qatool.run,\n",
    "        description=\"useful for when you need to answer questions about the Lenovo ThinkPad.\",\n",
    "    )\n",
    ")\n",
    "\n",
    "tools.append(Tool(\n",
    "        name=\"Web Search\",\n",
    "        func=search.run,\n",
    "        description=\"useful for when you are unable to answer the question by yourself and need to search the internet for answers.\",\n",
    "    )\n",
    ")\n",
    "\n",
    "tools.append(Tool(\n",
    "        name=\"Wikipedia Search\",\n",
    "        func=wikipedia.run,\n",
    "        description=\"useful for when you need to search Wikipedia for answers.\",\n",
    "    )\n",
    ")\n",
    "\n",
    "tools.append(Tool(\n",
    "        name=\"Chatbot\",\n",
    "        func=llm,\n",
    "        description=\"useful for when you need to answer general questions.\",\n",
    "    )\n",
    ")"
   ]
  },
  {
   "cell_type": "code",
   "execution_count": 32,
   "id": "9cbf1656-81d6-4348-ac92-70e9bcc73669",
   "metadata": {
    "tags": []
   },
   "outputs": [],
   "source": [
    "#only works well with openai llm\n",
    "agent = initialize_agent(\n",
    "    tools=tools, llm=llm, agent=AgentType.ZERO_SHOT_REACT_DESCRIPTION, verbose=True\n",
    ")"
   ]
  },
  {
   "cell_type": "code",
   "execution_count": 33,
   "id": "531b810d-59aa-4b3f-b09e-59c596d9b8f4",
   "metadata": {
    "tags": []
   },
   "outputs": [
    {
     "name": "stdout",
     "output_type": "stream",
     "text": [
      "\n",
      "\n",
      "\u001b[1m> Entering new AgentExecutor chain...\u001b[0m\n",
      "\u001b[32;1m\u001b[1;3mThis is a simple calculation that can be easily done using a calculator.\n",
      "Action: Calculator\n",
      "Action Input: 1^5\u001b[0m\n",
      "Observation: \u001b[36;1m\u001b[1;3mAnswer: 1\u001b[0m\n",
      "Thought:\u001b[32;1m\u001b[1;3mThe final answer is 1. \n",
      "\n",
      "Final Answer: 1\u001b[0m\n",
      "\n",
      "\u001b[1m> Finished chain.\u001b[0m\n"
     ]
    },
    {
     "data": {
      "text/plain": [
       "'1'"
      ]
     },
     "execution_count": 33,
     "metadata": {},
     "output_type": "execute_result"
    }
   ],
   "source": [
    "agent.run(\"what is 1 to the power of 5?\")"
   ]
  },
  {
   "cell_type": "markdown",
   "id": "faa2dbd5-c4f9-4fe8-a12f-6a97a28a1653",
   "metadata": {},
   "source": [
    "### Conversational Retrieval QA with memory module"
   ]
  },
  {
   "cell_type": "code",
   "execution_count": 34,
   "id": "f87ea398-d13b-48ff-a182-4b2e63ce0f12",
   "metadata": {},
   "outputs": [],
   "source": [
    "from langchain.memory import ConversationBufferMemory"
   ]
  },
  {
   "cell_type": "code",
   "execution_count": 35,
   "id": "b1635fc2-77a1-4ac9-9a48-0bb201a66a38",
   "metadata": {
    "tags": []
   },
   "outputs": [],
   "source": [
    "conversation_prompt_template = \"\"\"You are a chatbot having a conversation with a human.\n",
    "Given the following context, answer the question. If the context provided does not contain sufficient information to answer the question, say \"Sorry, I do not have enough knowledge to answer your question.\".\n",
    "\n",
    "Context:\n",
    "{context}\n",
    "\n",
    "{chat_history}\n",
    "Human: {human_input}\n",
    "AI:\"\"\"\n",
    "\n",
    "CONVERSATION_PROMPT = PromptTemplate(\n",
    "    input_variables=[\"chat_history\", \"human_input\", \"context\"], template=conversation_prompt_template\n",
    ")"
   ]
  },
  {
   "cell_type": "code",
   "execution_count": 36,
   "id": "df55f69e-4628-4ab3-a8f0-b25e19fcd928",
   "metadata": {
    "tags": []
   },
   "outputs": [],
   "source": [
    "memory = ConversationBufferMemory(memory_key=\"chat_history\", input_key=\"human_input\")"
   ]
  },
  {
   "cell_type": "code",
   "execution_count": 37,
   "id": "e69655b2-fce4-4427-b8b6-48687e1b1728",
   "metadata": {
    "tags": []
   },
   "outputs": [],
   "source": [
    "converseqa = load_qa_chain(llm, chain_type=\"stuff\", memory=memory, prompt=CONVERSATION_PROMPT)"
   ]
  },
  {
   "cell_type": "code",
   "execution_count": 38,
   "id": "cacc55e5-bd53-40fe-9628-03f370ab8f2c",
   "metadata": {
    "tags": []
   },
   "outputs": [
    {
     "name": "stdout",
     "output_type": "stream",
     "text": [
      "User: Hi\n",
      "Bot: Hello! How can I assist you today?\n",
      "User: How do I disable fast startup on my Lenovo thinkpad?\n",
      "Bot: To disable Fast Startup on your Lenovo ThinkPad, follow these steps:\n",
      "1. Go to Control Panel and view by Large icons or Small icons.\n",
      "2. Click Power Options, and then click Choose what the power buttons do on the left pane.\n",
      "3. Click Change settings that are currently unavailable at the top.\n",
      "4. If prompted by User Account Control (UAC), click Yes.\n",
      "5. Clear the Turn on fast startup check box, and then click Save changes.\n",
      "I hope this helps! Let me know if you have any other questions.\n"
     ]
    }
   ],
   "source": [
    "while True:\n",
    "    user_input = input()\n",
    "    if user_input == 'quit()':\n",
    "        break\n",
    "    print(f\"User: {user_input}\")\n",
    "    chat_docs = docsearch.similarity_search(user_input, k=1)\n",
    "    result = converseqa({\"input_documents\": chat_docs, \"human_input\": user_input})\n",
    "    print(f\"Bot: {result['output_text']}\")"
   ]
  },
  {
   "cell_type": "code",
   "execution_count": 39,
   "id": "9ca85025-a952-4ced-b705-e234f2a39838",
   "metadata": {
    "tags": []
   },
   "outputs": [
    {
     "data": {
      "text/plain": [
       "{'chat_history': 'Human: Hi\\nAI: Hello! How can I assist you today?\\nHuman: How do I disable fast startup on my Lenovo thinkpad?\\nAI: To disable Fast Startup on your Lenovo ThinkPad, follow these steps:\\n1. Go to Control Panel and view by Large icons or Small icons.\\n2. Click Power Options, and then click Choose what the power buttons do on the left pane.\\n3. Click Change settings that are currently unavailable at the top.\\n4. If prompted by User Account Control (UAC), click Yes.\\n5. Clear the Turn on fast startup check box, and then click Save changes.\\nI hope this helps! Let me know if you have any other questions.'}"
      ]
     },
     "execution_count": 39,
     "metadata": {},
     "output_type": "execute_result"
    }
   ],
   "source": [
    "#view chat history\n",
    "memory.load_memory_variables({})"
   ]
  },
  {
   "cell_type": "markdown",
   "id": "7f112138-b848-4051-8963-cce9d8a2e885",
   "metadata": {},
   "source": [
    "### Multi retriever model (Requires OpenAI GPT model)"
   ]
  },
  {
   "cell_type": "markdown",
   "id": "2c81f90a",
   "metadata": {},
   "source": [
    "##### Include another document: Epson printer user guide"
   ]
  },
  {
   "cell_type": "code",
   "execution_count": 82,
   "id": "31ce9397",
   "metadata": {},
   "outputs": [
    {
     "name": "stdout",
     "output_type": "stream",
     "text": [
      "Light Situation Solutions\n",
      "A paper jam has occurred.Remove the paper and press the  button.\n",
      "If the paper jam error continues after removing the\n",
      "paper and turning the power off and on again, paper\n",
      "may remain inside the printer. Load A4 size paper in\n",
      "the rear paper feed, and then press the  button to\n",
      "remove the paper inside. Load paper in the portraitdirection.\n",
      "If the error cannot be cleared, contact Epson support.\n",
      "When the power is on or flashing\n",
      "❏The printer was not turned off correctly.*\n",
      "❏Because the printer was turned off while\n",
      "operating, the nozzles may have dried\n",
      "and clogged.\n",
      "* The power was turned off with a power\n",
      "strip or breaker, the plug was pulled out ofthe outlet, or an electrical failure occurred.❏After clearing the error by pressing the \n",
      " button,\n",
      "we recommend performing a nozzle check. Cancel\n",
      "any pending print jobs.\n",
      "❏To turn off the printer, make sure you press the P\n",
      "button.\n",
      "When the power is off\n",
      "The printer has started in recovery mode\n",
      "because the firmware update failed.Follow the steps below to try to update the firmware\n",
      "again.\n",
      "1. Connect the computer and the printer with a USB\n",
      "cable.\n",
      "2. Visit your local Epson website for further\n",
      "instructions.\n",
      "When the H light and the b light flash\n",
      "simultaneously\n",
      "An ink pad is nearing or at the end of its\n",
      "service life.The ink pads need to be replaced.\n",
      "Contact Epson or an authorised Epson service\n",
      "provider to replace the ink pad *1. It is not a user-\n",
      "serviceable part.\n",
      "When a message saying that you can continue\n",
      "printing is displayed on the computer, press the \n",
      "button to continue printing . The lights stop flashing\n",
      "for the time being, however, they will continue to\n",
      "flash  at regular intervals until the ink pad is replaced.\n",
      "When the H light and the b light flash\n",
      "alternately\n",
      "A borderless printing ink pad is nearing or at\n",
      "the end of its service life.The borderless printing ink pad need to be replaced.\n",
      "Contact Epson or an authorised Epson service\n",
      "provider to replace the ink pad *2. It is not a user-\n",
      "serviceable part.\n",
      "When a message saying that you can continue\n",
      "printing is displayed on the computer, press the \n",
      "button to continue printing. The lights stop flashing\n",
      "for the time being, however, they will continue to\n",
      "flash  at regular intervals until the ink pad is replaced.\n",
      "Borderless printing is not av ailable, but printing with\n",
      "a border is available.\n",
      "A printer error has occurred. Remove any paper inside the printer. Turn the power\n",
      "off and on again.\n",
      "If the error continues to occur after turning the power\n",
      "off and on again, contact Epson support.Guide to the Control Panel >Checking Lights and Printer Status\n",
      "17\n"
     ]
    }
   ],
   "source": [
    "#split document into chunks of text\n",
    "reader = PdfReader(\"L1210 Series User's Guide.pdf\")\n",
    "\n",
    "print(reader.pages[16].extract_text())"
   ]
  },
  {
   "cell_type": "code",
   "execution_count": 83,
   "id": "89b98346",
   "metadata": {},
   "outputs": [],
   "source": [
    "import re\n",
    "\n",
    "page_delimiter = '\\n'\n",
    "docu = \"\"\n",
    "#exclude cover page and table of contexts\n",
    "for page in reader.pages[6:]:\n",
    "    page_text = page.extract_text()\n",
    "    #remove page number and chapter at bottom of page\n",
    "    page_text = re.sub(r\"\\n.*$\", \"\", page_text)\n",
    "    page_text += page_delimiter\n",
    "    docu += page_text"
   ]
  },
  {
   "cell_type": "code",
   "execution_count": 86,
   "id": "1335aeed",
   "metadata": {},
   "outputs": [],
   "source": [
    "#split document using recursive splitter\n",
    "from langchain.text_splitter import RecursiveCharacterTextSplitter\n",
    "text_splitter = RecursiveCharacterTextSplitter(\n",
    "    # Set a really small chunk size, just to show.\n",
    "    chunk_size = 1500,\n",
    "    chunk_overlap  = 500,\n",
    "    length_function = len,\n",
    ")\n",
    "\n",
    "texts = text_splitter.split_text(docu)"
   ]
  },
  {
   "cell_type": "code",
   "execution_count": 88,
   "id": "fe4472f0-6734-44ed-a72b-ed7b043d9bbc",
   "metadata": {
    "tags": []
   },
   "outputs": [
    {
     "name": "stdout",
     "output_type": "stream",
     "text": [
      "❏Avoid using outlets on the same circuit as photocopiers or air control systems that regularly switch on and off.\n",
      "❏Avoid electrical outlets controlled by wall switches or automatic timers.\n",
      "❏Keep the entire computer system away from potential sources of electromagnetic interference, such as\n",
      "loudspeakers or the base units of cordless telephones.\n",
      "❏The power-supply cords should be placed to avoid abrasions, cuts, fraying, crimping, and kinking. Do not place\n",
      "objects on top of the power-supply cords and do not allow the power-supply cords to be stepped on or run over.\n",
      "Be particularly careful to keep all the power-supply cords straight at the ends and the points where they enter\n",
      "and leave the transformer.\n",
      "❏If you use an extension cord with the printer, make sure that the total ampere rating of the devices plugged into\n",
      "the extension cord does not exceed the cord's ampere rating. Also, make sure that the total ampere rating of alldevices plugged into the wall outlet does not exceed the wall outlet's ampere rating.\n",
      "❏If you plan to use the printer in Germany, the building installation must be protected by a 10 or 16 amp circuit\n",
      "breaker to provide adequate short-circuit protection and over-current protection for the printer.\n",
      "❏When connecting the printer to a computer or other device with a cable, ensure the correct orientation of the\n",
      "connectors. Each connector has only one correct orient ation. Inserting a connector in the wrong orientation\n"
     ]
    }
   ],
   "source": [
    "print(texts[7])"
   ]
  },
  {
   "cell_type": "code",
   "execution_count": 90,
   "id": "0d17c04c-1182-4020-8b59-a3ab228b6c87",
   "metadata": {
    "tags": []
   },
   "outputs": [],
   "source": [
    "#create embedding database using Chroma\n",
    "docsearch_epsonprinter = Chroma.from_texts(texts, embeddings, persist_directory=\"epsonprinter_chromadb\")\n",
    "docsearch_epsonprinter.persist()"
   ]
  },
  {
   "cell_type": "code",
   "execution_count": 40,
   "id": "32a959d0",
   "metadata": {},
   "outputs": [],
   "source": [
    "#lood db if it has already been saved locally\n",
    "docsearch_epsonprinter = Chroma(persist_directory=\"epsonprinter_chromadb\", embedding_function=embeddings)"
   ]
  },
  {
   "cell_type": "code",
   "execution_count": 41,
   "id": "6eb0186e-77a8-47e3-9a85-4c8c8227792d",
   "metadata": {
    "tags": []
   },
   "outputs": [],
   "source": [
    "retriever_infos = [\n",
    "    {\n",
    "        \"name\": \"Lenovo ThinkPad\", \n",
    "        \"description\": \"Good for answering questions about the Lenovo ThinkPad laptop\", \n",
    "        \"retriever\": docsearch.as_retriever(search_kwargs={\"k\":1})\n",
    "    },\n",
    "    {\n",
    "        \"name\": \"Epson Printer\", \n",
    "        \"description\": \"Good for answer quesitons about the Epson printer\", \n",
    "        \"retriever\": docsearch_epsonprinter.as_retriever(search_kwargs={\"k\":1})\n",
    "    }\n",
    "]"
   ]
  },
  {
   "cell_type": "code",
   "execution_count": 42,
   "id": "f1705998-5bc0-4064-9f8c-93fd56004099",
   "metadata": {
    "tags": []
   },
   "outputs": [],
   "source": [
    "from langchain.chains.router import MultiRetrievalQAChain\n",
    "multiqa = MultiRetrievalQAChain.from_retrievers(llm, retriever_infos, verbose=True)"
   ]
  },
  {
   "cell_type": "code",
   "execution_count": 44,
   "id": "c7895c91-b037-4dc9-b746-89653f022b6c",
   "metadata": {
    "tags": []
   },
   "outputs": [
    {
     "name": "stdout",
     "output_type": "stream",
     "text": [
      "\n",
      "\n",
      "\u001b[1m> Entering new MultiRetrievalQAChain chain...\u001b[0m\n"
     ]
    },
    {
     "name": "stderr",
     "output_type": "stream",
     "text": [
      "c:\\Users\\waiho\\Documents\\Python venv\\RAG_chatbot\\RAG_chatbot_env\\lib\\site-packages\\langchain\\chains\\llm.py:275: UserWarning: The predict_and_parse method is deprecated, instead pass an output parser directly to LLMChain.\n",
      "  warnings.warn(\n"
     ]
    },
    {
     "name": "stdout",
     "output_type": "stream",
     "text": [
      "iPhone/iOS: {'query': \"How do I update my printer's firmware?\"}\n",
      "\u001b[1m> Finished chain.\u001b[0m\n"
     ]
    }
   ],
   "source": [
    "output = multiqa.run(\"How do I update my Epson printer's firmware?\")"
   ]
  },
  {
   "cell_type": "code",
   "execution_count": 45,
   "id": "bcfb7d46-f675-4f08-9c1a-2b38a19d9205",
   "metadata": {},
   "outputs": [
    {
     "name": "stdout",
     "output_type": "stream",
     "text": [
      "To update your printer's firmware, you need to make sure that your printer and computer are connected and that your computer is connected to the internet. Then, start EPSON Software Updater and update the applications or firmware. It's important not to turn off the computer or printer until the update is complete to avoid any malfunctions. If you cannot find the application you want to update in the list, you should check for the latest versions of the applications on your local Epson website.\n"
     ]
    }
   ],
   "source": [
    "print(output)"
   ]
  },
  {
   "cell_type": "code",
   "execution_count": 51,
   "id": "89d32808-2eaa-44f2-a8d8-1422a7c9e4f0",
   "metadata": {
    "tags": []
   },
   "outputs": [
    {
     "name": "stdout",
     "output_type": "stream",
     "text": [
      "\n",
      "\n",
      "\u001b[1m> Entering new MultiRetrievalQAChain chain...\u001b[0m\n"
     ]
    },
    {
     "name": "stderr",
     "output_type": "stream",
     "text": [
      "c:\\Users\\waiho\\Documents\\Python venv\\RAG_chatbot\\RAG_chatbot_env\\lib\\site-packages\\langchain\\chains\\llm.py:275: UserWarning: The predict_and_parse method is deprecated, instead pass an output parser directly to LLMChain.\n",
      "  warnings.warn(\n"
     ]
    },
    {
     "name": "stdout",
     "output_type": "stream",
     "text": [
      "Lenovo ThinkPad: {'query': 'I forgot my power-on password for my ThinkPad, please help me.'}\n",
      "\u001b[1m> Finished chain.\u001b[0m\n"
     ]
    }
   ],
   "source": [
    "output = multiqa.run(\"I forgot my power on password for my thinkpad, please help me.\")"
   ]
  },
  {
   "cell_type": "code",
   "execution_count": 52,
   "id": "04998439-1dbd-4abd-9d7c-e18548c5efce",
   "metadata": {
    "tags": []
   },
   "outputs": [
    {
     "name": "stdout",
     "output_type": "stream",
     "text": [
      "If you have forgotten your power-on password for your ThinkPad, you will need to reset it by accessing the UEFI BIOS menu. Please refer to the provided context and follow the steps mentioned under \"Associate your fingerprints with passwords\" to reset your power-on password using your fingerprints. If you have not set up fingerprints, you may need to contact a Lenovo authorized service provider to have the password removed.\n"
     ]
    }
   ],
   "source": [
    "print(output)"
   ]
  },
  {
   "cell_type": "markdown",
   "id": "b0e9fb32-2a80-484e-8a97-f3eced5f5bb6",
   "metadata": {},
   "source": [
    "### Selection of tools/models using zero-shot classification"
   ]
  },
  {
   "cell_type": "code",
   "execution_count": 53,
   "id": "53fef353-5f62-4ef6-ac33-e366ecca5ccc",
   "metadata": {
    "tags": []
   },
   "outputs": [],
   "source": [
    "#QA Chain\n",
    "qatool = RetrievalQA.from_chain_type(llm=llm, chain_type=\"stuff\", retriever=docsearch.as_retriever(search_kwargs={\"k\":1}), chain_type_kwargs={\"prompt\": QUESTION_PROMPT})"
   ]
  },
  {
   "cell_type": "code",
   "execution_count": 54,
   "id": "abcc77d3-66fb-4b6f-9f03-9708477c9a06",
   "metadata": {
    "tags": []
   },
   "outputs": [],
   "source": [
    "#load zero-shot classification model\n",
    "from transformers import pipeline\n",
    "classifier = pipeline(\"zero-shot-classification\", model=\"facebook/bart-large-mnli\")"
   ]
  },
  {
   "cell_type": "code",
   "execution_count": 55,
   "id": "79f9489f-4b45-4bc0-b6ba-219aca31b160",
   "metadata": {
    "tags": []
   },
   "outputs": [],
   "source": [
    "tool_labels = [\"Lenovo ThinkPad laptop\", \"Epson printer\", \"Chat\", \"Search\"]"
   ]
  },
  {
   "cell_type": "code",
   "execution_count": 56,
   "id": "cef58f19-e437-4540-a696-49d379426040",
   "metadata": {
    "tags": []
   },
   "outputs": [
    {
     "name": "stdout",
     "output_type": "stream",
     "text": [
      "{'sequence': 'how do I switch off my Epson printer?', 'labels': ['Epson printer', 'Search', 'Chat', 'Lenovo ThinkPad laptop'], 'scores': [0.9307340979576111, 0.03484595939517021, 0.030018631368875504, 0.004401261918246746]}\n"
     ]
    }
   ],
   "source": [
    "input_query = input(\"Enter query:\")\n",
    "tool_selected = classifier(input_query, tool_labels, truncation=True)\n",
    "print(tool_selected)"
   ]
  },
  {
   "cell_type": "code",
   "execution_count": 57,
   "id": "e1cee7cd-d31f-47f2-bb02-6b27517bd775",
   "metadata": {
    "tags": []
   },
   "outputs": [],
   "source": [
    "from langchain.memory import ConversationBufferMemory\n",
    "memory = ConversationBufferMemory(memory_key=\"chat_history\", input_key=\"human_input\")"
   ]
  },
  {
   "cell_type": "code",
   "execution_count": 58,
   "id": "1184673b-f6e2-404f-9686-2c9580bf5ee9",
   "metadata": {
    "tags": []
   },
   "outputs": [],
   "source": [
    "chat_prompt_template = \"\"\"You are a chatbot having a conversation with a human.\n",
    "\n",
    "{chat_history}\n",
    "Human: {human_input}\n",
    "AI: \"\"\"\n",
    "\n",
    "CHAT_PROMPT = PromptTemplate(\n",
    "    input_variables=[\"chat_history\", \"human_input\"], template=chat_prompt_template\n",
    ")\n",
    "\n",
    "chat_tool = LLMChain(\n",
    "    llm=llm,\n",
    "    prompt=CHAT_PROMPT,\n",
    "    memory=memory\n",
    ")"
   ]
  },
  {
   "cell_type": "code",
   "execution_count": 59,
   "id": "16cdb741-4e36-46ff-a76a-b3a3d8e733fb",
   "metadata": {
    "tags": []
   },
   "outputs": [],
   "source": [
    "conversationqa_prompt_template = \"\"\"You are a chatbot having a conversation with a human.\n",
    "Given the following context, answer the question. If the context provided does not contain sufficient information to answer the question, say \"Sorry, I do not have enough knowledge to answer your question.\".\n",
    "\n",
    "Context:\n",
    "{context}\n",
    "\n",
    "{chat_history}\n",
    "Human: {human_input}\n",
    "AI:\"\"\"\n",
    "\n",
    "CONVERSATIONQA_PROMPT = PromptTemplate(\n",
    "    input_variables=[\"chat_history\", \"human_input\", \"context\"], template=conversationqa_prompt_template\n",
    ")\n",
    "\n",
    "converseqa = load_qa_chain(\n",
    "    llm=llm, \n",
    "    chain_type=\"stuff\",  \n",
    "    prompt=CONVERSATION_PROMPT,\n",
    "    memory=memory\n",
    ")"
   ]
  },
  {
   "cell_type": "code",
   "execution_count": 60,
   "id": "eb713600-26f6-43d9-9266-7b1a173f2cdc",
   "metadata": {
    "tags": []
   },
   "outputs": [
    {
     "name": "stdout",
     "output_type": "stream",
     "text": [
      "User: Good morning\n",
      "tool: Chat\n",
      "Bot: Good morning! How can I assist you today?\n",
      "User: How do I factory reset my ThinkPad?\n",
      "tool: Lenovo ThinkPad laptop\n",
      "Bot: To factory reset your ThinkPad, you can follow these steps:\n",
      "1. Restart the computer.\n",
      "2. When the logo screen is displayed, immediately press F1 to enter the UEFI BIOS menu.\n",
      "3. Select Security ➙ Password ➙ System Management Password by using the arrow keys.\n",
      "4. Type the current supervisor password in the Enter Current Password field. Then, leave the Enter New Password field blank, and press Enter twice.\n",
      "5. In the Changes have been saved window, press Enter.\n",
      "6. Press F10 to save changes and exit the UEFI BIOS menu.\n",
      "\n",
      "Please note that if you haven't set a supervisor password, you'll need to contact a Lenovo authorized service provider to have the system management password removed.\n"
     ]
    }
   ],
   "source": [
    "while True:\n",
    "    input_query = input(\"Enter query (quit() to end chat, reset() to reset chat history):\")\n",
    "    if input_query == \"quit()\":\n",
    "        break\n",
    "    elif input_query == \"reset()\":\n",
    "        memory.clear()\n",
    "        continue\n",
    "    else:\n",
    "        classifier_output = classifier(input_query, tool_labels, truncation=True)\n",
    "        tool_selected = classifier_output[\"labels\"][0]\n",
    "        tool_confidence = classifier_output[\"scores\"][0]\n",
    "        if tool_selected == \"Lenovo ThinkPad laptop\":\n",
    "            chat_docs = docsearch.similarity_search(input_query, k=1)\n",
    "            output = converseqa({\"input_documents\": chat_docs, \"human_input\": input_query})[\"output_text\"]\n",
    "        elif tool_selected == \"Epson printer\":\n",
    "            chat_docs = docsearch_epsonprinter.similarity_search(input_query, k=1)\n",
    "            output = converseqa({\"input_documents\": chat_docs, \"human_input\": input_query})[\"output_text\"]\n",
    "        elif tool_selected == \"Search\":\n",
    "            output = search.run(input_query)\n",
    "        else:\n",
    "            output = chat_tool.run(input_query)\n",
    "        print(f\"User: {input_query}\")\n",
    "        print(f\"tool: {tool_selected}\")\n",
    "        print(f\"Bot: {output}\")"
   ]
  },
  {
   "cell_type": "code",
   "execution_count": 61,
   "id": "4062c547-0e57-4a90-864f-d3abf851befe",
   "metadata": {
    "tags": []
   },
   "outputs": [
    {
     "data": {
      "text/plain": [
       "{'chat_history': \"Human: Good morning\\nAI: Good morning! How can I assist you today?\\nHuman: How do I factory reset my ThinkPad?\\nAI: To factory reset your ThinkPad, you can follow these steps:\\n1. Restart the computer.\\n2. When the logo screen is displayed, immediately press F1 to enter the UEFI BIOS menu.\\n3. Select Security ➙ Password ➙ System Management Password by using the arrow keys.\\n4. Type the current supervisor password in the Enter Current Password field. Then, leave the Enter New Password field blank, and press Enter twice.\\n5. In the Changes have been saved window, press Enter.\\n6. Press F10 to save changes and exit the UEFI BIOS menu.\\n\\nPlease note that if you haven't set a supervisor password, you'll need to contact a Lenovo authorized service provider to have the system management password removed.\"}"
      ]
     },
     "execution_count": 61,
     "metadata": {},
     "output_type": "execute_result"
    }
   ],
   "source": [
    "memory.load_memory_variables({})"
   ]
  },
  {
   "cell_type": "code",
   "execution_count": null,
   "id": "6bb5fa0d-c947-430e-a3f5-6205b96d8a4b",
   "metadata": {},
   "outputs": [],
   "source": []
  }
 ],
 "metadata": {
  "kernelspec": {
   "display_name": "Python 3 (ipykernel)",
   "language": "python",
   "name": "python3"
  },
  "language_info": {
   "codemirror_mode": {
    "name": "ipython",
    "version": 3
   },
   "file_extension": ".py",
   "mimetype": "text/x-python",
   "name": "python",
   "nbconvert_exporter": "python",
   "pygments_lexer": "ipython3",
   "version": "3.10.10"
  }
 },
 "nbformat": 4,
 "nbformat_minor": 5
}
