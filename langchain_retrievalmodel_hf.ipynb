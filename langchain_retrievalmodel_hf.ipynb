{
 "cells": [
  {
   "cell_type": "code",
   "execution_count": 1,
   "id": "b3fc971a-d950-439e-b67c-ec118013681f",
   "metadata": {
    "tags": []
   },
   "outputs": [],
   "source": [
    "import os"
   ]
  },
  {
   "cell_type": "code",
   "execution_count": 2,
   "id": "fe9ee280",
   "metadata": {},
   "outputs": [],
   "source": [
    "HUGGINGFACEHUB_API_TOKEN = input(\"Enter HuggingFace token\")"
   ]
  },
  {
   "cell_type": "code",
   "execution_count": 20,
   "id": "086ba88f-48af-4b3c-9604-0f78f1d8671f",
   "metadata": {
    "tags": []
   },
   "outputs": [],
   "source": [
    "#for huggingface inference api\n",
    "os.environ[\"HUGGINGFACEHUB_API_TOKEN\"] = HUGGINGFACEHUB_API_TOKEN"
   ]
  },
  {
   "cell_type": "code",
   "execution_count": 4,
   "id": "8397e54c-2ee9-4e3a-b575-13b78cf584e0",
   "metadata": {
    "tags": []
   },
   "outputs": [],
   "source": [
    "from langchain.chains import LLMChain\n",
    "from langchain.chains import RetrievalQA\n",
    "from langchain.chains.question_answering import load_qa_chain\n",
    "from langchain.vectorstores import Chroma\n",
    "from langchain.docstore.document import Document\n",
    "from langchain.prompts import PromptTemplate\n",
    "from langchain.indexes.vectorstore import VectorstoreIndexCreator"
   ]
  },
  {
   "cell_type": "markdown",
   "id": "a8e12cf3-3051-4f94-89ba-1d85d6b0dabc",
   "metadata": {},
   "source": [
    "#### Load and split document and create a vector store with word embeddings"
   ]
  },
  {
   "cell_type": "code",
   "execution_count": 5,
   "id": "4d5c6cd6-bcb5-46a9-83e1-829fd0d6d2a1",
   "metadata": {
    "tags": []
   },
   "outputs": [],
   "source": [
    "#load embedding model\n",
    "from langchain.embeddings import HuggingFaceEmbeddings\n",
    "\n",
    "import torch\n",
    "#Use GPU if available\n",
    "if torch.cuda.is_available():\n",
    "    device = 'cuda'\n",
    "else:\n",
    "    device = 'cpu'\n",
    "\n",
    "model_name = \"intfloat/e5-large-v2\"\n",
    "model_kwargs = {'device': device}\n",
    "encode_kwargs = {'normalize_embeddings': False}\n",
    "embeddings = HuggingFaceEmbeddings(\n",
    "    model_name=model_name,\n",
    "    model_kwargs=model_kwargs,\n",
    "    encode_kwargs=encode_kwargs\n",
    ")"
   ]
  },
  {
   "cell_type": "code",
   "execution_count": 78,
   "id": "006c9b08-79b1-474e-997e-f4299e18d386",
   "metadata": {
    "tags": []
   },
   "outputs": [
    {
     "name": "stdout",
     "output_type": "stream",
     "text": [
      "Microphone*\n",
      " IR camera* / Camera*\n",
      "Webcam privacy shutter*\n",
      " Touch screen*\n",
      "Power button\n",
      " TrackPoint pointing stick\n",
      "Fingerprint reader*\n",
      " Trackpad\n",
      "NFC label*\n",
      " TrackPoint buttons\n",
      "Speaker\n",
      "* for selected models\n",
      "Webcam privacy shutter\n",
      "Slide the webcam privacy shutter to cover or uncover the camera lens. It is designed to protect your privacy.\n",
      "Power button\n",
      "Press to turn on the computer or put the computer to sleep mode.\n",
      "To turn off the computer, open the Start menu, click \n",
      " Power, and then select Shut down.\n",
      "The indicator in the power button shows the system status of your computer. \n",
      "• Blinking for three times: The computer is initially connected to power.\n",
      "• On: The computer is on.\n",
      "• Off: The computer is off or in hibernation mode.\n",
      "• Blinking rapidly (for Intel models): The computer is entering sleep or hibernation mode.\n",
      "• Blinking rapidly (for AMD models): The computer is entering hibernation mode.\n",
      "• Blinking slowly: The computer is in sleep mode.\n",
      "Related topics\n",
      "• “Log in with your face ID (for selected models)” on page 31\n",
      "• “Smart features (for selected models)” on page 19\n",
      "• “Use the touch screen (for selected models)” on page 14\n",
      "• “Use the TrackPoint pointing device” on page 12\n",
      "• “Use the RFID feature (for selected Intel models)” on page 27\n",
      "• “Log in with your fingerprint (for selected models)” on page 31\n",
      "• “Use the trackpad” on page 13\n",
      "• “Set up an NFC connection (for selected models)” on page 25\n",
      "Chapter 1.Meet your computer 3\n"
     ]
    }
   ],
   "source": [
    "#split document into chunks of text\n",
    "from PyPDF2 import PdfReader\n",
    "\n",
    "reader = PdfReader(\"thinkpad_t14_gen_2.pdf\")\n",
    "\n",
    "print(reader.pages[8].extract_text())"
   ]
  },
  {
   "cell_type": "code",
   "execution_count": 7,
   "id": "4ee3b6ef",
   "metadata": {},
   "outputs": [],
   "source": [
    "import re\n",
    "\n",
    "page_delimiter = '\\n'\n",
    "docu = \"\"\n",
    "#exclude cover page and table of contexts\n",
    "for page in reader.pages[6:]:\n",
    "    page_text = page.extract_text()\n",
    "    #remove page number and chapter at bottom of page\n",
    "    page_text = re.sub(r\"\\n.*$\", \"\", page_text)\n",
    "    page_text += page_delimiter\n",
    "    docu += page_text"
   ]
  },
  {
   "cell_type": "code",
   "execution_count": 8,
   "id": "0ee7dcdc",
   "metadata": {},
   "outputs": [
    {
     "name": "stdout",
     "output_type": "stream",
     "text": [
      "Chapter 1.Meet your computer\n",
      "ThinkPad T14 Gen 2 and ThinkPad P14s Gen 2 might be shipped with different microprocessors, namely \n",
      "Intel® and Advanced Micro Devices (AMD). ThinkPad T15 Gen 2 and ThinkPad P15s Gen 2 are shipped with \n",
      "Intel microprocessors. Hereby Intel models and AMD models are used to distinguish computer models with \n",
      "different microprocessors.\n",
      "Front view\n",
      "T14 Gen 2 and P14s Gen 2\n",
      "Microphone*\n",
      " Infrared (IR) camera* / Camera*\n",
      "Webcam privacy shutter*\n",
      " Touch screen*\n",
      "Power button\n",
      " TrackPoint® pointing stick\n",
      "RFID label1\n",
      " Fingerprint reader*\n",
      "Trackpad\n",
      " Near field communication (NFC) label*\n",
      "TrackPoint buttons\n",
      " Speaker\n",
      "* for selected models\n",
      "1 for selected Intel models\n",
      "T15 Gen 2 and P15s Gen 2\n",
      "Microphone*\n",
      " IR camera* / Camera*\n",
      "Webcam privacy shutter*\n",
      " Touch screen*\n",
      "Power button\n",
      " TrackPoint pointing stick\n",
      "Fingerprint reader*\n",
      " Trackpad\n",
      "NFC label*\n",
      " TrackPoint buttons\n",
      "Speaker\n",
      "* for selected models\n",
      "Webcam privacy shutter\n",
      "Slide the webcam privacy shutter to cover or uncover the camera le\n"
     ]
    }
   ],
   "source": [
    "print(docu[:1000])"
   ]
  },
  {
   "cell_type": "code",
   "execution_count": 9,
   "id": "9180650b-d77d-4a24-9a59-1580280aa454",
   "metadata": {
    "tags": []
   },
   "outputs": [],
   "source": [
    "#split document using recursive splitter\n",
    "from langchain.text_splitter import RecursiveCharacterTextSplitter\n",
    "text_splitter = RecursiveCharacterTextSplitter(\n",
    "    # Set a really small chunk size, just to show.\n",
    "    chunk_size = 1500,\n",
    "    chunk_overlap  = 500,\n",
    "    length_function = len,\n",
    ")\n",
    "\n",
    "texts = text_splitter.split_text(docu)"
   ]
  },
  {
   "cell_type": "code",
   "execution_count": 10,
   "id": "5dcd050d",
   "metadata": {},
   "outputs": [
    {
     "name": "stdout",
     "output_type": "stream",
     "text": [
      "79\n"
     ]
    }
   ],
   "source": [
    "print(len(texts))"
   ]
  },
  {
   "cell_type": "code",
   "execution_count": 11,
   "id": "d7c9d837",
   "metadata": {},
   "outputs": [
    {
     "name": "stdout",
     "output_type": "stream",
     "text": [
      "• Some gestures are not available if the last action was done from the TrackPoint pointing device.\n",
      "• Some gestures are only available when you are using certain apps.\n",
      "• If the trackpad surface is stained with oil, turn off the computer first. Then, gently wipe the trackpad \n",
      "surface with a soft and lint-free cloth moistened with lukewarm water or computer cleaner.\n",
      "For more gestures, see the help information of the pointing device.\n",
      "Disable the trackpad\n",
      "The trackpad is active by default. To disable the device: \n",
      "1. Open the Start menu, and then click Settings ➙ Devices ➙ Touchpad.\n",
      "2. In the Touchpad section, turn off the Touchpad control.\n",
      "Use the touch screen (for selected models)\n",
      "If your computer display supports the multi-touch function, you can navigate the screen with simple touch \n",
      "gestures.\n",
      "Note: Some gestures might not be available when you are using certain apps.\n",
      "Tap once to single click Tap twice quickly to double-click\n",
      "Tap and hold to right-click Slide to scroll through items\n",
      "Zoom out Zoom in\n",
      "Swipe from the left: view all open windows Swipe from the right: open action center\n",
      "Swipe downwards shortly: show title bar\n",
      "Swipe downwards: close the current appDrag\n",
      "Maintenance tips:\n",
      "• Turn off the computer before cleaning the touch screen.\n",
      "• Use a dry, soft, and lint-free cloth or a piece of absorbent cotton to remove fingerprints or dust from the \n",
      "touch screen. Do not apply solvents to the cloth.\n"
     ]
    }
   ],
   "source": [
    "print(texts[10])"
   ]
  },
  {
   "cell_type": "code",
   "execution_count": 12,
   "id": "7f446011",
   "metadata": {},
   "outputs": [
    {
     "name": "stdout",
     "output_type": "stream",
     "text": [
      "Tap and hold to right-click Slide to scroll through items\n",
      "Zoom out Zoom in\n",
      "Swipe from the left: view all open windows Swipe from the right: open action center\n",
      "Swipe downwards shortly: show title bar\n",
      "Swipe downwards: close the current appDrag\n",
      "Maintenance tips:\n",
      "• Turn off the computer before cleaning the touch screen.\n",
      "• Use a dry, soft, and lint-free cloth or a piece of absorbent cotton to remove fingerprints or dust from the \n",
      "touch screen. Do not apply solvents to the cloth.\n",
      "• The touch screen is a glass panel covered with a plastic film. Do not apply pressure or place any metallic \n",
      "object on the screen, which might damage the touch panel or cause it to malfunction.\n",
      "• Do not use fingernails, gloved fingers, or inanimate objects for input on the screen.\n",
      "• Regularly calibrate the accuracy of the finger input to avoid a discrepancy.\n",
      "Connect to an external display\n",
      "Connect your computer to a projector or a monitor to give presentations or expand your workspace.\n",
      "Connect to a wired display\n",
      "If your computer cannot detect the external display, right-click a blank area on the desktop and select \n",
      "display settings. Then follow the on-screen instructions to detect the external display.\n",
      "The following table lists the supported maximum resolution of the external display. \n",
      "Connect the external display to Supported resolution\n",
      "the USB-C (Thunderbolt 4) connector (for Intel models) Up to 5120 x 3200 pixels / 60 Hz\n",
      "the USB-C (3.2 Gen 2) connector (for AMD models) Up to 5120 x 2880 pixels / 60 Hz\n"
     ]
    }
   ],
   "source": [
    "print(texts[11])"
   ]
  },
  {
   "cell_type": "code",
   "execution_count": 13,
   "id": "90081292-b9f8-4992-b342-8455b2450293",
   "metadata": {
    "tags": []
   },
   "outputs": [],
   "source": [
    "#create embedding database using Chroma\n",
    "docsearch = Chroma.from_texts(texts, embeddings, persist_directory=\"thinkpad_chromadb\")\n",
    "docsearch.persist()"
   ]
  },
  {
   "cell_type": "code",
   "execution_count": 13,
   "id": "e56861e6-cbf2-47c9-b7d3-42b9d9d43df3",
   "metadata": {
    "tags": []
   },
   "outputs": [],
   "source": [
    "#lood db if it has already been saved locally\n",
    "docsearch = Chroma(persist_directory=\"thinkpad_chromadb\", embedding_function=embeddings)"
   ]
  },
  {
   "cell_type": "markdown",
   "id": "f611a819-55ee-4ec0-80fc-31f002449787",
   "metadata": {},
   "source": [
    "#### Load LLM model"
   ]
  },
  {
   "cell_type": "markdown",
   "id": "fc99bad3",
   "metadata": {},
   "source": [
    "##### Using local instance of HuggingFace model"
   ]
  },
  {
   "cell_type": "code",
   "execution_count": 6,
   "id": "0f97781b-d12b-4000-b685-5eaa73aa735b",
   "metadata": {
    "tags": []
   },
   "outputs": [],
   "source": [
    "#for HuggingFace\n",
    "from langchain.llms import HuggingFacePipeline\n",
    "from transformers import AutoModelForCausalLM, AutoTokenizer, pipeline, PreTrainedModel, AutoConfig\n",
    "from langchain.llms import HuggingFacePipeline"
   ]
  },
  {
   "cell_type": "code",
   "execution_count": 7,
   "id": "835ee060",
   "metadata": {},
   "outputs": [],
   "source": [
    "\"\"\"model_id = \"meta-llama/Llama-2-7b-chat-hf\n",
    "\"\"\""
   ]
  },
  {
   "cell_type": "code",
   "execution_count": 12,
   "id": "1975231b-096a-46f2-b489-22f68d99f92f",
   "metadata": {
    "tags": []
   },
   "outputs": [
    {
     "data": {
      "text/plain": [
       "'#Load model and tokenizer locally\\n#Initialize tokenizer and model\\nmodel_id=\"tiiuae/falcon-7b-instruct\"\\n\\nprint(\"loading model...\", end=\\'\\', flush=True)\\ntokenizer = AutoTokenizer.from_pretrained(model_id, trust_remote_code=True)\\nconfig = AutoConfig.from_pretrained(model_id, max_length=3000, trust_remote_code=True)\\nconfig.init_device = \\'cuda:0\\' # For fast initialization directly on GPU!\\nmodel = AutoModelForCausalLM.from_pretrained(model_id, trust_remote_code=True, config=config)\\nprint(\"completed\")'"
      ]
     },
     "execution_count": 12,
     "metadata": {},
     "output_type": "execute_result"
    }
   ],
   "source": [
    "\"\"\"#Load HuggingFace model and tokenizer locally\n",
    "#Initialize tokenizer and model\n",
    "\n",
    "print(\"loading model...\", end='', flush=True)\n",
    "tokenizer = AutoTokenizer.from_pretrained(model_id, trust_remote_code=True)\n",
    "config = AutoConfig.from_pretrained(model_id, max_length=3000, trust_remote_code=True)\n",
    "config.init_device = 'cuda:0' # For fast initialization directly on GPU!\n",
    "model = AutoModelForCausalLM.from_pretrained(model_id, trust_remote_code=True, config=config)\n",
    "print(\"completed\")\"\"\""
   ]
  },
  {
   "cell_type": "code",
   "execution_count": 13,
   "id": "a70d31b7-4dfe-459c-9a84-a9325bd44681",
   "metadata": {
    "tags": []
   },
   "outputs": [
    {
     "data": {
      "text/plain": [
       "'pipe = pipeline(\\n    \"text-generation\", \\n    model=model, \\n    tokenizer=tokenizer, \\n    config={\"temperature\":0.2, \"max_length\":3000, \"max_new_tokens\":200, \"max_time\":None , \"num_return_sequences\":1, \"repetition_penalty\": 10}, \\n    device=\\'cuda:0\\'\\n)\\n\\nllm = HuggingFacePipeline(\\n    pipeline=pipe,\\n)'"
      ]
     },
     "execution_count": 13,
     "metadata": {},
     "output_type": "execute_result"
    }
   ],
   "source": [
    "\"\"\"#Load HuggingFace Pipeline\n",
    "pipe = pipeline(\n",
    "    \"text-generation\", \n",
    "    model=model, \n",
    "    tokenizer=tokenizer, \n",
    "    config={\"temperature\":0.2, \"max_length\":3000, \"max_new_tokens\":200, \"max_time\":None , \"num_return_sequences\":1, \"repetition_penalty\": 10}, \n",
    "    device='cuda:0'\n",
    ")\n",
    "\n",
    "llm = HuggingFacePipeline(\n",
    "    pipeline=pipe,\n",
    ")\"\"\""
   ]
  },
  {
   "cell_type": "code",
   "execution_count": 13,
   "id": "c0fb29ee-0930-4b64-8a36-5f8db9c3d5ba",
   "metadata": {
    "tags": []
   },
   "outputs": [
    {
     "data": {
      "application/vnd.jupyter.widget-view+json": {
       "model_id": "16c6cda1ff5e439a8b7435adbe9fb1ff",
       "version_major": 2,
       "version_minor": 0
      },
      "text/plain": [
       "Downloading shards:   0%|          | 0/2 [00:00<?, ?it/s]"
      ]
     },
     "metadata": {},
     "output_type": "display_data"
    },
    {
     "data": {
      "application/vnd.jupyter.widget-view+json": {
       "model_id": "721c98ea44004f7cbd502ea67716a7c2",
       "version_major": 2,
       "version_minor": 0
      },
      "text/plain": [
       "Downloading (…)of-00002.safetensors:   0%|          | 0.00/9.98G [00:00<?, ?B/s]"
      ]
     },
     "metadata": {},
     "output_type": "display_data"
    },
    {
     "data": {
      "application/vnd.jupyter.widget-view+json": {
       "model_id": "e260d25caa9648f88d77f910c963613c",
       "version_major": 2,
       "version_minor": 0
      },
      "text/plain": [
       "Downloading (…)of-00002.safetensors:   0%|          | 0.00/3.50G [00:00<?, ?B/s]"
      ]
     },
     "metadata": {},
     "output_type": "display_data"
    },
    {
     "data": {
      "application/vnd.jupyter.widget-view+json": {
       "model_id": "41a235b66f714151a9433c17e17fe800",
       "version_major": 2,
       "version_minor": 0
      },
      "text/plain": [
       "Loading checkpoint shards:   0%|          | 0/2 [00:00<?, ?it/s]"
      ]
     },
     "metadata": {},
     "output_type": "display_data"
    },
    {
     "data": {
      "application/vnd.jupyter.widget-view+json": {
       "model_id": "ef22bfe985c84f54abf6f0b086fa49b0",
       "version_major": 2,
       "version_minor": 0
      },
      "text/plain": [
       "Downloading (…)neration_config.json:   0%|          | 0.00/167 [00:00<?, ?B/s]"
      ]
     },
     "metadata": {},
     "output_type": "display_data"
    },
    {
     "name": "stderr",
     "output_type": "stream",
     "text": [
      "WARNING[XFORMERS]: xFormers can't load C++/CUDA extensions. xFormers was built for:\n",
      "    PyTorch 2.0.1+cu118 with CUDA 1108 (you have 2.0.1+cpu)\n",
      "    Python  3.10.11 (you have 3.10.10)\n",
      "  Please reinstall xformers (see https://github.com/facebookresearch/xformers#installing-xformers)\n",
      "  Memory-efficient attention, SwiGLU, sparse and more won't be available.\n",
      "  Set XFORMERS_MORE_DETAILS=1 for more details\n"
     ]
    }
   ],
   "source": [
    "\"\"\"#Load HuggingFace model locally using a pipeline\n",
    "\n",
    "llm = HuggingFacePipeline.from_model_id(\n",
    "    model_id=model_id,\n",
    "    task=\"text-generation\",#\n",
    "    pipeline_kwargs={\"temperature\":0.2, \"max_new_tokens\":500, \"max_time\":None , \"num_return_sequences\":1},\n",
    ")\n",
    "\"\"\""
   ]
  },
  {
   "cell_type": "markdown",
   "id": "545db233",
   "metadata": {},
   "source": [
    "##### Using HuggingFace Inference API"
   ]
  },
  {
   "cell_type": "code",
   "execution_count": 45,
   "id": "8319f64c-e213-485f-8559-ba1ec435bda0",
   "metadata": {
    "tags": []
   },
   "outputs": [],
   "source": [
    "#load model from HuggingFaceHub\n",
    "from langchain import HuggingFaceHub\n",
    "\n",
    "repo_id = \"tiiuae/falcon-7b-instruct\"\n",
    "\n",
    "llm = HuggingFaceHub(repo_id=repo_id, model_kwargs={\"temperature\":0.2,\"max_new_tokens\":500, \"max_time\":None , \"num_return_sequences\":1, \"repetition_penalty\":10})"
   ]
  },
  {
   "cell_type": "markdown",
   "id": "9a4139c5-a8d7-430d-b62f-5ac830bcb035",
   "metadata": {},
   "source": [
    "### Retrieval QA Chain"
   ]
  },
  {
   "cell_type": "code",
   "execution_count": 22,
   "id": "4a5d0dbf-749b-455e-b862-7a5f8ae84423",
   "metadata": {
    "tags": []
   },
   "outputs": [],
   "source": [
    "query = \"How to disable fast startup on my thinkpad?\"\n",
    "#search for the most relevant chunk based on cosine similarity(for Chroma) or Euclidean distance(for FAISS) - results are the same\n",
    "#k is the number of documents to retrieve\n",
    "docs = docsearch.similarity_search(query, k=1)"
   ]
  },
  {
   "cell_type": "code",
   "execution_count": 23,
   "id": "b51ab37d-c328-4acf-ab9e-a0f00b9d55fe",
   "metadata": {
    "tags": []
   },
   "outputs": [
    {
     "name": "stdout",
     "output_type": "stream",
     "text": [
      "• Always On USB 3.2 connector Gen 1 board\n",
      "• Always On USB 3.2 connector Gen 1 board bracket\n",
      "• Coin-cell battery\n",
      "• Keyboard\n",
      "• Memory module*\n",
      "• Speaker assembly\n",
      "• Wireless WAN card*\n",
      "* for selected models\n",
      "Note: Replacement of any parts not listed above, including the built-in rechargeable battery, must be done \n",
      "by a Lenovo-authorized repair facility or technician. Go to https://support.lenovo.com/partnerlocation for more \n",
      "information.\n",
      "Disable Fast Startup and the built-in battery\n",
      "Before replacing any CRU, ensure that you disable Fast Startup first and then disable the built-in battery.\n",
      "To disable Fast Startup: \n",
      "1. Go to Control Panel and view by Large icons or Small icons.\n",
      "2. Click Power Options, and then click Choose what the power buttons do on the left pane.\n",
      "3. Click Change settings that are currently unavailable at the top.\n",
      "4. If prompted by User Account Control (UAC), click Yes.\n",
      "5. Clear the Turn on fast startup check box, and then click Save changes.\n",
      "To disable the built-in battery: \n",
      "1. Restart your computer. When the logo screen is displayed, immediately press F1 to enter the UEFI BIOS \n",
      "menu.\n",
      "2. Select Config ➙ Power. The Power submenu is displayed.\n",
      "3. Select Disable Built-in Battery and press Enter.\n",
      "4. Select Yes in the Setup Confirmation window. The built-in battery is disabled and the computer turns off \n",
      "automatically. Wait three to five minutes to let the computer cool.\n",
      "Replace a CRU\n",
      "Follow the replacement procedure to replace a CRU.\n"
     ]
    }
   ],
   "source": [
    "#most similar document\n",
    "print(docs[0].page_content)"
   ]
  },
  {
   "cell_type": "code",
   "execution_count": 24,
   "id": "9ee58f77-8ca3-42cb-aa6f-532c4815e9f6",
   "metadata": {
    "tags": []
   },
   "outputs": [],
   "source": [
    "#create custom prompt\n",
    "from langchain.prompts import PromptTemplate\n",
    "\n",
    "question_prompt_template = \"\"\"Use the context provided to answer the question. If the context provided does not contain sufficient information to answer the question, say \"Sorry, I do not have enough knowledge to answer your question.\".\n",
    "\n",
    "Context:\n",
    "{context}\n",
    "\n",
    "Question:\n",
    "{question}\n",
    "\n",
    "Answer:\n",
    "\"\"\"\n",
    "\n",
    "QUESTION_PROMPT = PromptTemplate(\n",
    "    template=question_prompt_template, input_variables=[\"context\", \"question\"]\n",
    ")"
   ]
  },
  {
   "cell_type": "code",
   "execution_count": 25,
   "id": "d3a028f6-ed77-4e2d-97c1-b750217d573e",
   "metadata": {
    "tags": []
   },
   "outputs": [],
   "source": [
    "qa = load_qa_chain(llm=llm, chain_type=\"stuff\", prompt=QUESTION_PROMPT)"
   ]
  },
  {
   "cell_type": "code",
   "execution_count": 26,
   "id": "9d62441a-0cbc-41ae-b681-eef837ac176d",
   "metadata": {
    "tags": []
   },
   "outputs": [],
   "source": [
    "output = qa({\"input_documents\": docs, \"question\": query}, return_only_outputs=False)"
   ]
  },
  {
   "cell_type": "code",
   "execution_count": 27,
   "id": "afa31859-251b-4ab4-b8eb-713a89bed595",
   "metadata": {
    "tags": []
   },
   "outputs": [
    {
     "name": "stdout",
     "output_type": "stream",
     "text": [
      "How to disable fast startup on my thinkpad?\n",
      "You can disable fast startup on your ThinkPad by following these steps:\n",
      "1. Press the Windows key + R.\n",
      "2. Type msinfo32 and hit Enter.\n",
      "3. In the System Information window, click Hardware tab.\n",
      "4. Under Device list, select Components with no drivers installed.\n",
      "5. Right-click the device and select Properties.\n",
      "6. In the Property page, select Driver from the drop-down menu.\n",
      "7. Uncheck 'Fast start up'.\n",
      "8. Click OK to save changes.\n",
      "9. Close all windows.\n",
      "10. Press Ctrl + Shift + Esc to open Task Manager.\n",
      "11. In Task Manager, go to Performance, click Set priority, and set CPU affinity to only use one core.\n",
      "12. Click Apply and OK.\n",
      "13. Close all windows.\n",
      "14. Open Command Prompt as an administrator and type diskpart.\n",
      "15. Follow the instructions to create a new partition, format it with NTFS file system, and assign drive letters to each partition.\n",
      "16. Once you've completed this step, type exit in the command prompt.\n",
      "17. Reboot your computer.\n",
      "18. After the reboot, you should see the message indicating the fast startup has been disabled.\n"
     ]
    }
   ],
   "source": [
    "print(query)\n",
    "print(output[\"output_text\"])"
   ]
  },
  {
   "cell_type": "code",
   "execution_count": 28,
   "id": "77983a69-db29-4357-aa40-6afc9efacd0e",
   "metadata": {
    "tags": []
   },
   "outputs": [
    {
     "name": "stdout",
     "output_type": "stream",
     "text": [
      "1\n",
      "[Document(page_content='• Always On USB 3.2 connector Gen 1 board\\n• Always On USB 3.2 connector Gen 1 board bracket\\n• Coin-cell battery\\n• Keyboard\\n• Memory module*\\n• Speaker assembly\\n• Wireless WAN card*\\n* for selected models\\nNote: Replacement of any parts not listed above, including the built-in rechargeable battery, must be done \\nby a Lenovo-authorized repair facility or technician. Go to https://support.lenovo.com/partnerlocation for more \\ninformation.\\nDisable Fast Startup and the built-in battery\\nBefore replacing any CRU, ensure that you disable Fast Startup first and then disable the built-in battery.\\nTo disable Fast Startup: \\n1. Go to Control Panel and view by Large icons or Small icons.\\n2. Click Power Options, and then click Choose what the power buttons do on the left pane.\\n3. Click Change settings that are currently unavailable at the top.\\n4. If prompted by User Account Control (UAC), click Yes.\\n5. Clear the Turn on fast startup check box, and then click Save changes.\\nTo disable the built-in battery: \\n1. Restart your computer. When the logo screen is displayed, immediately press F1 to enter the UEFI BIOS \\nmenu.\\n2. Select Config ➙ Power. The Power submenu is displayed.\\n3. Select Disable Built-in Battery and press Enter.\\n4. Select Yes in the Setup Confirmation window. The built-in battery is disabled and the computer turns off \\nautomatically. Wait three to five minutes to let the computer cool.\\nReplace a CRU\\nFollow the replacement procedure to replace a CRU.', metadata={})]\n"
     ]
    }
   ],
   "source": [
    "#documents used as context\n",
    "print(len(output[\"input_documents\"]))\n",
    "print(output[\"input_documents\"])"
   ]
  },
  {
   "cell_type": "markdown",
   "id": "b1aa5425-e11c-441d-83ae-2d72de30c0c4",
   "metadata": {},
   "source": [
    "### Incorporating search tool"
   ]
  },
  {
   "cell_type": "code",
   "execution_count": 29,
   "id": "4c2c748b-cd60-4382-a48c-f876196846dc",
   "metadata": {
    "tags": []
   },
   "outputs": [],
   "source": [
    "from langchain.utilities import GoogleSerperAPIWrapper\n"
   ]
  },
  {
   "cell_type": "code",
   "execution_count": null,
   "id": "6b69876e",
   "metadata": {},
   "outputs": [],
   "source": [
    "SERPER_API_KEY = input(\"Enter Serper API key\")"
   ]
  },
  {
   "cell_type": "code",
   "execution_count": null,
   "id": "14feecf1",
   "metadata": {},
   "outputs": [],
   "source": [
    "os.environ[\"SERPER_API_KEY\"] = SERPER_API_KEY"
   ]
  },
  {
   "cell_type": "code",
   "execution_count": 30,
   "id": "87ccb8e6-cfb4-4942-a8bc-2675c3fd27bd",
   "metadata": {
    "tags": []
   },
   "outputs": [],
   "source": [
    "#Google search\n",
    "search = GoogleSerperAPIWrapper()"
   ]
  },
  {
   "cell_type": "code",
   "execution_count": 31,
   "id": "3ccc8939-8798-4db0-8480-451384cdda9b",
   "metadata": {
    "tags": []
   },
   "outputs": [
    {
     "name": "stdout",
     "output_type": "stream",
     "text": [
      "Method 1  1. Search for and open Control Panel using the search feature.  2. Choose View by: Category, then select Hardware and Sound.  3. Select Power Options.  4. Select Choose what the power buttons do.  5. Click Change settings that are currently unavailable.  6. Check or uncheck turn on fast startup to enable or disable the feature.\n"
     ]
    }
   ],
   "source": [
    "search_result = search.run(query)\n",
    "print(search_result)"
   ]
  },
  {
   "cell_type": "code",
   "execution_count": 32,
   "id": "d44022ce-ce6d-4011-b27b-7e061916490d",
   "metadata": {
    "tags": []
   },
   "outputs": [],
   "source": [
    "combine_prompt_template = \"\"\"Provide a summary of the documents and search results to answer the question. If the context provided does not contain sufficient information to answer the question, say \"Sorry, I do not have enough knowledge to answer your question.\".\n",
    "\n",
    "Documents:\n",
    "{documents}\n",
    "\n",
    "Search results:\n",
    "{query}\n",
    "{search}\n",
    "\n",
    "Question:\n",
    "{query}\n",
    "\n",
    "Answer:\n",
    "\"\"\"\n",
    "\n",
    "COMBINE_PROMPT = PromptTemplate(\n",
    "    template=combine_prompt_template, input_variables=[\"documents\", \"search\", \"query\"]\n",
    ")"
   ]
  },
  {
   "cell_type": "code",
   "execution_count": 33,
   "id": "ed7bfe91-21f6-4d1e-ae53-ebc83451b1b7",
   "metadata": {
    "collapsed": true,
    "jupyter": {
     "outputs_hidden": true
    },
    "tags": []
   },
   "outputs": [
    {
     "name": "stdout",
     "output_type": "stream",
     "text": [
      "• Always On USB 3.2 connector Gen 1 board\n",
      "• Always On USB 3.2 connector Gen 1 board bracket\n",
      "• Coin-cell battery\n",
      "• Keyboard\n",
      "• Memory module*\n",
      "• Speaker assembly\n",
      "• Wireless WAN card*\n",
      "* for selected models\n",
      "Note: Replacement of any parts not listed above, including the built-in rechargeable battery, must be done \n",
      "by a Lenovo-authorized repair facility or technician. Go to https://support.lenovo.com/partnerlocation for more \n",
      "information.\n",
      "Disable Fast Startup and the built-in battery\n",
      "Before replacing any CRU, ensure that you disable Fast Startup first and then disable the built-in battery.\n",
      "To disable Fast Startup: \n",
      "1. Go to Control Panel and view by Large icons or Small icons.\n",
      "2. Click Power Options, and then click Choose what the power buttons do on the left pane.\n",
      "3. Click Change settings that are currently unavailable at the top.\n",
      "4. If prompted by User Account Control (UAC), click Yes.\n",
      "5. Clear the Turn on fast startup check box, and then click Save changes.\n",
      "To disable the built-in battery: \n",
      "1. Restart your computer. When the logo screen is displayed, immediately press F1 to enter the UEFI BIOS \n",
      "menu.\n",
      "2. Select Config ➙ Power. The Power submenu is displayed.\n",
      "3. Select Disable Built-in Battery and press Enter.\n",
      "4. Select Yes in the Setup Confirmation window. The built-in battery is disabled and the computer turns off \n",
      "automatically. Wait three to five minutes to let the computer cool.\n",
      "Replace a CRU\n",
      "Follow the replacement procedure to replace a CRU.\n",
      "\n"
     ]
    }
   ],
   "source": [
    "documents = ''\n",
    "\n",
    "for doc in docs:\n",
    "    documents += f\"{doc.page_content}\\n\"\n",
    "\n",
    "print(documents)"
   ]
  },
  {
   "cell_type": "code",
   "execution_count": 34,
   "id": "df31ba51-2602-4901-8afa-f31ffcf934d4",
   "metadata": {
    "tags": []
   },
   "outputs": [],
   "source": [
    "combine_chain = LLMChain(llm=llm, prompt=COMBINE_PROMPT)"
   ]
  },
  {
   "cell_type": "code",
   "execution_count": 35,
   "id": "e79344e9-627d-439d-83d8-ce64fa89a90f",
   "metadata": {
    "tags": []
   },
   "outputs": [],
   "source": [
    "output = combine_chain({'documents': documents, 'search': search_result, \"query\": query})"
   ]
  },
  {
   "cell_type": "code",
   "execution_count": 36,
   "id": "2d5d9a36-eb99-4cf1-b75f-b6bdd788ad70",
   "metadata": {
    "tags": []
   },
   "outputs": [
    {
     "name": "stdout",
     "output_type": "stream",
     "text": [
      "To disable fast startup on your ThinkPad, follow these steps:\n",
      "1. Go to Control Panel and view by Large icons or Small icons.\n",
      "2. Click Power Options, and then click Choose what the power buttons do on the left pane.\n",
      "3. Click Change settings that are currently unavailable at the top.\n",
      "4. If prompted by UAC, click Yes.\n",
      "5. Check the Turn on fast startup check box, and then click Save changes.\n",
      "6. Your ThinkPad will automatically shut down after the specified time period.\n"
     ]
    }
   ],
   "source": [
    "print(output['text'])"
   ]
  },
  {
   "cell_type": "markdown",
   "id": "3a74f4c1-45fe-4f90-a999-e29b7ae32f29",
   "metadata": {},
   "source": [
    "### Incorporating Agent (only works well with OpenAI GPT models)"
   ]
  },
  {
   "cell_type": "code",
   "execution_count": 37,
   "id": "9e15bc54-8ef9-4f29-880d-b78c351f926f",
   "metadata": {
    "tags": []
   },
   "outputs": [],
   "source": [
    "from langchain.agents import initialize_agent, Tool\n",
    "from langchain.agents import AgentType\n",
    "from langchain.tools import BaseTool"
   ]
  },
  {
   "cell_type": "code",
   "execution_count": 38,
   "id": "6edfa0bf-2643-467a-a15d-24a7faae8c47",
   "metadata": {
    "tags": []
   },
   "outputs": [],
   "source": [
    "qatool = RetrievalQA.from_chain_type(llm=llm, chain_type=\"stuff\", retriever=docsearch.as_retriever(search_kwargs={\"k\":1}), chain_type_kwargs={\"prompt\": QUESTION_PROMPT})"
   ]
  },
  {
   "cell_type": "code",
   "execution_count": 60,
   "id": "9a609657-f67c-45a0-8fe9-b22eb3976d16",
   "metadata": {
    "tags": []
   },
   "outputs": [],
   "source": [
    "from langchain.utilities import WikipediaAPIWrapper\n",
    "wikipedia = WikipediaAPIWrapper()"
   ]
  },
  {
   "cell_type": "code",
   "execution_count": 61,
   "id": "a0ec6289-8ea0-41cf-90a3-4c7d40a149a5",
   "metadata": {
    "tags": []
   },
   "outputs": [],
   "source": [
    "from langchain.agents import load_tools\n",
    "\n",
    "tools = load_tools([\"llm-math\"], llm=llm)\n",
    "\n",
    "tools.append(Tool(\n",
    "        name=\"Retrieval QA\",\n",
    "        func=qatool.run,\n",
    "        description=\"useful for when you need to answer questions about the Lenovo ThinkPad.\",\n",
    "    )\n",
    ")\n",
    "\n",
    "tools.append(Tool(\n",
    "        name=\"Web Search\",\n",
    "        func=search.run,\n",
    "        description=\"useful for when you are unable to answer the question by yourself and need to search the internet for answers.\",\n",
    "    )\n",
    ")\n",
    "\n",
    "tools.append(Tool(\n",
    "        name=\"Wikipedia Search\",\n",
    "        func=wikipedia.run,\n",
    "        description=\"useful for when you need to search Wikipedia for answers.\",\n",
    "    )\n",
    ")\n",
    "\n",
    "tools.append(Tool(\n",
    "        name=\"Chatbot\",\n",
    "        func=llm,\n",
    "        description=\"useful for when you need to answer general questions.\",\n",
    "    )\n",
    ")"
   ]
  },
  {
   "cell_type": "code",
   "execution_count": 62,
   "id": "9cbf1656-81d6-4348-ac92-70e9bcc73669",
   "metadata": {
    "tags": []
   },
   "outputs": [],
   "source": [
    "#only works well with openai llm\n",
    "agent = initialize_agent(\n",
    "    tools=tools, llm=llm, agent=AgentType.ZERO_SHOT_REACT_DESCRIPTION, verbose=True\n",
    ")"
   ]
  },
  {
   "cell_type": "code",
   "execution_count": null,
   "id": "531b810d-59aa-4b3f-b09e-59c596d9b8f4",
   "metadata": {
    "tags": []
   },
   "outputs": [],
   "source": [
    "agent.run(\"what is 1 to the power of 5?\")"
   ]
  },
  {
   "cell_type": "markdown",
   "id": "faa2dbd5-c4f9-4fe8-a12f-6a97a28a1653",
   "metadata": {},
   "source": [
    "### Conversational Retrieval QA with memory module"
   ]
  },
  {
   "cell_type": "code",
   "execution_count": 46,
   "id": "f87ea398-d13b-48ff-a182-4b2e63ce0f12",
   "metadata": {},
   "outputs": [],
   "source": [
    "from langchain.memory import ConversationBufferMemory"
   ]
  },
  {
   "cell_type": "code",
   "execution_count": 47,
   "id": "b1635fc2-77a1-4ac9-9a48-0bb201a66a38",
   "metadata": {
    "tags": []
   },
   "outputs": [],
   "source": [
    "conversation_prompt_template = \"\"\"You are a chatbot having a conversation with a human.\n",
    "Given the following context, answer the question. If the context provided does not contain sufficient information to answer the question, say \"Sorry, I do not have enough knowledge to answer your question.\".\n",
    "\n",
    "Context:\n",
    "{context}\n",
    "\n",
    "{chat_history}\n",
    "Human: {human_input}\n",
    "AI:\"\"\"\n",
    "\n",
    "CONVERSATION_PROMPT = PromptTemplate(\n",
    "    input_variables=[\"chat_history\", \"human_input\", \"context\"], template=conversation_prompt_template\n",
    ")"
   ]
  },
  {
   "cell_type": "code",
   "execution_count": 48,
   "id": "df55f69e-4628-4ab3-a8f0-b25e19fcd928",
   "metadata": {
    "tags": []
   },
   "outputs": [],
   "source": [
    "memory = ConversationBufferMemory(memory_key=\"chat_history\", input_key=\"human_input\")"
   ]
  },
  {
   "cell_type": "code",
   "execution_count": 49,
   "id": "e69655b2-fce4-4427-b8b6-48687e1b1728",
   "metadata": {
    "tags": []
   },
   "outputs": [],
   "source": [
    "converseqa = load_qa_chain(llm, chain_type=\"stuff\", memory=memory, prompt=CONVERSATION_PROMPT)"
   ]
  },
  {
   "cell_type": "code",
   "execution_count": 50,
   "id": "cacc55e5-bd53-40fe-9628-03f370ab8f2c",
   "metadata": {
    "tags": []
   },
   "outputs": [
    {
     "name": "stdout",
     "output_type": "stream",
     "text": [
      "User: Hi\n",
      "Bot:  Hello! How can I help you?\n",
      "User \n",
      "User: How do I disable fast startup on my Lenovo thinkpad?\n",
      "Bot:  To disable fast startup, go to Control Panel and view by Large icons or Small icons. Then, click on Power Options and choose \"Choose what the power buttons do\". From there, select \"Turn off device wakeup from sleep, hibernation or standby mode\". Click \"Save changes\" and restart your computer.\n"
     ]
    }
   ],
   "source": [
    "while True:\n",
    "    user_input = input()\n",
    "    if user_input == 'quit()':\n",
    "        break\n",
    "    print(f\"User: {user_input}\")\n",
    "    chat_docs = docsearch.similarity_search(user_input, k=1)\n",
    "    result = converseqa({\"input_documents\": chat_docs, \"human_input\": user_input})\n",
    "    print(f\"Bot: {result['output_text']}\")"
   ]
  },
  {
   "cell_type": "code",
   "execution_count": 51,
   "id": "9ca85025-a952-4ced-b705-e234f2a39838",
   "metadata": {
    "tags": []
   },
   "outputs": [
    {
     "data": {
      "text/plain": [
       "{'chat_history': 'Human: Hi\\nAI:  Hello! How can I help you?\\nUser \\nHuman: How do I disable fast startup on my Lenovo thinkpad?\\nAI:  To disable fast startup, go to Control Panel and view by Large icons or Small icons. Then, click on Power Options and choose \"Choose what the power buttons do\". From there, select \"Turn off device wakeup from sleep, hibernation or standby mode\". Click \"Save changes\" and restart your computer.'}"
      ]
     },
     "execution_count": 51,
     "metadata": {},
     "output_type": "execute_result"
    }
   ],
   "source": [
    "#view chat history\n",
    "memory.load_memory_variables({})"
   ]
  },
  {
   "cell_type": "markdown",
   "id": "7f112138-b848-4051-8963-cce9d8a2e885",
   "metadata": {},
   "source": [
    "### Multi retriever model (Requires OpenAI GPT model)"
   ]
  },
  {
   "cell_type": "markdown",
   "id": "2c81f90a",
   "metadata": {},
   "source": [
    "##### Include another document: Epson printer user guide"
   ]
  },
  {
   "cell_type": "code",
   "execution_count": 82,
   "id": "31ce9397",
   "metadata": {},
   "outputs": [
    {
     "name": "stdout",
     "output_type": "stream",
     "text": [
      "Light Situation Solutions\n",
      "A paper jam has occurred.Remove the paper and press the  button.\n",
      "If the paper jam error continues after removing the\n",
      "paper and turning the power off and on again, paper\n",
      "may remain inside the printer. Load A4 size paper in\n",
      "the rear paper feed, and then press the  button to\n",
      "remove the paper inside. Load paper in the portraitdirection.\n",
      "If the error cannot be cleared, contact Epson support.\n",
      "When the power is on or flashing\n",
      "❏The printer was not turned off correctly.*\n",
      "❏Because the printer was turned off while\n",
      "operating, the nozzles may have dried\n",
      "and clogged.\n",
      "* The power was turned off with a power\n",
      "strip or breaker, the plug was pulled out ofthe outlet, or an electrical failure occurred.❏After clearing the error by pressing the \n",
      " button,\n",
      "we recommend performing a nozzle check. Cancel\n",
      "any pending print jobs.\n",
      "❏To turn off the printer, make sure you press the P\n",
      "button.\n",
      "When the power is off\n",
      "The printer has started in recovery mode\n",
      "because the firmware update failed.Follow the steps below to try to update the firmware\n",
      "again.\n",
      "1. Connect the computer and the printer with a USB\n",
      "cable.\n",
      "2. Visit your local Epson website for further\n",
      "instructions.\n",
      "When the H light and the b light flash\n",
      "simultaneously\n",
      "An ink pad is nearing or at the end of its\n",
      "service life.The ink pads need to be replaced.\n",
      "Contact Epson or an authorised Epson service\n",
      "provider to replace the ink pad *1. It is not a user-\n",
      "serviceable part.\n",
      "When a message saying that you can continue\n",
      "printing is displayed on the computer, press the \n",
      "button to continue printing . The lights stop flashing\n",
      "for the time being, however, they will continue to\n",
      "flash  at regular intervals until the ink pad is replaced.\n",
      "When the H light and the b light flash\n",
      "alternately\n",
      "A borderless printing ink pad is nearing or at\n",
      "the end of its service life.The borderless printing ink pad need to be replaced.\n",
      "Contact Epson or an authorised Epson service\n",
      "provider to replace the ink pad *2. It is not a user-\n",
      "serviceable part.\n",
      "When a message saying that you can continue\n",
      "printing is displayed on the computer, press the \n",
      "button to continue printing. The lights stop flashing\n",
      "for the time being, however, they will continue to\n",
      "flash  at regular intervals until the ink pad is replaced.\n",
      "Borderless printing is not av ailable, but printing with\n",
      "a border is available.\n",
      "A printer error has occurred. Remove any paper inside the printer. Turn the power\n",
      "off and on again.\n",
      "If the error continues to occur after turning the power\n",
      "off and on again, contact Epson support.Guide to the Control Panel >Checking Lights and Printer Status\n",
      "17\n"
     ]
    }
   ],
   "source": [
    "#split document into chunks of text\n",
    "reader = PdfReader(\"L1210 Series User's Guide.pdf\")\n",
    "\n",
    "print(reader.pages[16].extract_text())"
   ]
  },
  {
   "cell_type": "code",
   "execution_count": 83,
   "id": "89b98346",
   "metadata": {},
   "outputs": [],
   "source": [
    "import re\n",
    "\n",
    "page_delimiter = '\\n'\n",
    "docu = \"\"\n",
    "#exclude cover page and table of contexts\n",
    "for page in reader.pages[6:]:\n",
    "    page_text = page.extract_text()\n",
    "    #remove page number and chapter at bottom of page\n",
    "    page_text = re.sub(r\"\\n.*$\", \"\", page_text)\n",
    "    page_text += page_delimiter\n",
    "    docu += page_text"
   ]
  },
  {
   "cell_type": "code",
   "execution_count": 86,
   "id": "1335aeed",
   "metadata": {},
   "outputs": [],
   "source": [
    "#split document using recursive splitter\n",
    "from langchain.text_splitter import RecursiveCharacterTextSplitter\n",
    "text_splitter = RecursiveCharacterTextSplitter(\n",
    "    # Set a really small chunk size, just to show.\n",
    "    chunk_size = 1500,\n",
    "    chunk_overlap  = 500,\n",
    "    length_function = len,\n",
    ")\n",
    "\n",
    "texts = text_splitter.split_text(docu)"
   ]
  },
  {
   "cell_type": "code",
   "execution_count": 88,
   "id": "fe4472f0-6734-44ed-a72b-ed7b043d9bbc",
   "metadata": {
    "tags": []
   },
   "outputs": [
    {
     "name": "stdout",
     "output_type": "stream",
     "text": [
      "❏Avoid using outlets on the same circuit as photocopiers or air control systems that regularly switch on and off.\n",
      "❏Avoid electrical outlets controlled by wall switches or automatic timers.\n",
      "❏Keep the entire computer system away from potential sources of electromagnetic interference, such as\n",
      "loudspeakers or the base units of cordless telephones.\n",
      "❏The power-supply cords should be placed to avoid abrasions, cuts, fraying, crimping, and kinking. Do not place\n",
      "objects on top of the power-supply cords and do not allow the power-supply cords to be stepped on or run over.\n",
      "Be particularly careful to keep all the power-supply cords straight at the ends and the points where they enter\n",
      "and leave the transformer.\n",
      "❏If you use an extension cord with the printer, make sure that the total ampere rating of the devices plugged into\n",
      "the extension cord does not exceed the cord's ampere rating. Also, make sure that the total ampere rating of alldevices plugged into the wall outlet does not exceed the wall outlet's ampere rating.\n",
      "❏If you plan to use the printer in Germany, the building installation must be protected by a 10 or 16 amp circuit\n",
      "breaker to provide adequate short-circuit protection and over-current protection for the printer.\n",
      "❏When connecting the printer to a computer or other device with a cable, ensure the correct orientation of the\n",
      "connectors. Each connector has only one correct orient ation. Inserting a connector in the wrong orientation\n"
     ]
    }
   ],
   "source": [
    "print(texts[7])"
   ]
  },
  {
   "cell_type": "code",
   "execution_count": 90,
   "id": "0d17c04c-1182-4020-8b59-a3ab228b6c87",
   "metadata": {
    "tags": []
   },
   "outputs": [],
   "source": [
    "#create embedding database using Chroma\n",
    "docsearch_epsonprinter = Chroma.from_texts(texts, embeddings, persist_directory=\"epsonprinter_chromadb\")\n",
    "docsearch_epsonprinter.persist()"
   ]
  },
  {
   "cell_type": "code",
   "execution_count": 62,
   "id": "32a959d0",
   "metadata": {},
   "outputs": [],
   "source": [
    "#lood db if it has already been saved locally\n",
    "docsearch_epsonprinter = Chroma(persist_directory=\"epsonprinter_chromadb\", embedding_function=embeddings)"
   ]
  },
  {
   "cell_type": "code",
   "execution_count": 91,
   "id": "6eb0186e-77a8-47e3-9a85-4c8c8227792d",
   "metadata": {
    "tags": []
   },
   "outputs": [],
   "source": [
    "retriever_infos = [\n",
    "    {\n",
    "        \"name\": \"Lenovo ThinkPad\", \n",
    "        \"description\": \"Good for answering questions about the Lenovo ThinkPad laptop\", \n",
    "        \"retriever\": docsearch.as_retriever(search_kwargs={\"k\":1})\n",
    "    },\n",
    "    {\n",
    "        \"name\": \"Epson Printer\", \n",
    "        \"description\": \"Good for answer quesitons about the Epson printer\", \n",
    "        \"retriever\": docsearch_epsonprinter.as_retriever(search_kwargs={\"k\":1})\n",
    "    }\n",
    "]"
   ]
  },
  {
   "cell_type": "code",
   "execution_count": null,
   "id": "f1705998-5bc0-4064-9f8c-93fd56004099",
   "metadata": {
    "tags": []
   },
   "outputs": [],
   "source": [
    "from langchain.chains.router import MultiRetrievalQAChain\n",
    "multiqa = MultiRetrievalQAChain.from_retrievers(llm, retriever_infos, verbose=True)"
   ]
  },
  {
   "cell_type": "code",
   "execution_count": null,
   "id": "c7895c91-b037-4dc9-b746-89653f022b6c",
   "metadata": {
    "tags": []
   },
   "outputs": [],
   "source": [
    "output = multiqa.run(\"How do I update my Epson printer's firmware?\")"
   ]
  },
  {
   "cell_type": "code",
   "execution_count": null,
   "id": "bcfb7d46-f675-4f08-9c1a-2b38a19d9205",
   "metadata": {},
   "outputs": [],
   "source": [
    "print(output)"
   ]
  },
  {
   "cell_type": "code",
   "execution_count": null,
   "id": "89d32808-2eaa-44f2-a8d8-1422a7c9e4f0",
   "metadata": {
    "tags": []
   },
   "outputs": [],
   "source": [
    "output = multiqa.run(\"I forgot my power on password for my thinkpad, please help me.\")"
   ]
  },
  {
   "cell_type": "code",
   "execution_count": null,
   "id": "04998439-1dbd-4abd-9d7c-e18548c5efce",
   "metadata": {
    "tags": []
   },
   "outputs": [],
   "source": [
    "print(output)"
   ]
  },
  {
   "cell_type": "markdown",
   "id": "b0e9fb32-2a80-484e-8a97-f3eced5f5bb6",
   "metadata": {},
   "source": [
    "### Selection of tools/models using zero-shot classification"
   ]
  },
  {
   "cell_type": "code",
   "execution_count": 52,
   "id": "53fef353-5f62-4ef6-ac33-e366ecca5ccc",
   "metadata": {
    "tags": []
   },
   "outputs": [],
   "source": [
    "#QA Chain\n",
    "qatool = RetrievalQA.from_chain_type(llm=llm, chain_type=\"stuff\", retriever=docsearch.as_retriever(search_kwargs={\"k\":1}), chain_type_kwargs={\"prompt\": QUESTION_PROMPT})"
   ]
  },
  {
   "cell_type": "code",
   "execution_count": 53,
   "id": "abcc77d3-66fb-4b6f-9f03-9708477c9a06",
   "metadata": {
    "tags": []
   },
   "outputs": [
    {
     "data": {
      "application/vnd.jupyter.widget-view+json": {
       "model_id": "f41427e9bed2492d89655f5aafefb48d",
       "version_major": 2,
       "version_minor": 0
      },
      "text/plain": [
       "Downloading (…)lve/main/config.json:   0%|          | 0.00/1.15k [00:00<?, ?B/s]"
      ]
     },
     "metadata": {},
     "output_type": "display_data"
    },
    {
     "name": "stderr",
     "output_type": "stream",
     "text": [
      "c:\\Users\\waiho\\Documents\\Python venv\\RAG_chatbot\\RAG_chatbot_env\\lib\\site-packages\\huggingface_hub\\file_download.py:133: UserWarning: `huggingface_hub` cache-system uses symlinks by default to efficiently store duplicated files but your machine does not support them in C:\\Users\\waiho\\.cache\\huggingface\\hub. Caching files will still work but in a degraded version that might require more space on your disk. This warning can be disabled by setting the `HF_HUB_DISABLE_SYMLINKS_WARNING` environment variable. For more details, see https://huggingface.co/docs/huggingface_hub/how-to-cache#limitations.\n",
      "To support symlinks on Windows, you either need to activate Developer Mode or to run Python as an administrator. In order to see activate developer mode, see this article: https://docs.microsoft.com/en-us/windows/apps/get-started/enable-your-device-for-development\n",
      "  warnings.warn(message)\n"
     ]
    },
    {
     "data": {
      "application/vnd.jupyter.widget-view+json": {
       "model_id": "7ec35372b2ee47a7960ac2490875773d",
       "version_major": 2,
       "version_minor": 0
      },
      "text/plain": [
       "Downloading model.safetensors:   0%|          | 0.00/1.63G [00:00<?, ?B/s]"
      ]
     },
     "metadata": {},
     "output_type": "display_data"
    },
    {
     "data": {
      "application/vnd.jupyter.widget-view+json": {
       "model_id": "0a29be77d764454da3809d4268017b0f",
       "version_major": 2,
       "version_minor": 0
      },
      "text/plain": [
       "Downloading (…)okenizer_config.json:   0%|          | 0.00/26.0 [00:00<?, ?B/s]"
      ]
     },
     "metadata": {},
     "output_type": "display_data"
    },
    {
     "data": {
      "application/vnd.jupyter.widget-view+json": {
       "model_id": "f59a3fbe934743bd892dd46c680d22c1",
       "version_major": 2,
       "version_minor": 0
      },
      "text/plain": [
       "Downloading (…)olve/main/vocab.json:   0%|          | 0.00/899k [00:00<?, ?B/s]"
      ]
     },
     "metadata": {},
     "output_type": "display_data"
    },
    {
     "data": {
      "application/vnd.jupyter.widget-view+json": {
       "model_id": "574f94ab66bc412e9e8e90cf21c7b4c0",
       "version_major": 2,
       "version_minor": 0
      },
      "text/plain": [
       "Downloading (…)olve/main/merges.txt:   0%|          | 0.00/456k [00:00<?, ?B/s]"
      ]
     },
     "metadata": {},
     "output_type": "display_data"
    },
    {
     "data": {
      "application/vnd.jupyter.widget-view+json": {
       "model_id": "5070d067818c40c895cee5c8a2690f26",
       "version_major": 2,
       "version_minor": 0
      },
      "text/plain": [
       "Downloading (…)/main/tokenizer.json:   0%|          | 0.00/1.36M [00:00<?, ?B/s]"
      ]
     },
     "metadata": {},
     "output_type": "display_data"
    }
   ],
   "source": [
    "#load zero-shot classification model\n",
    "from transformers import pipeline\n",
    "classifier = pipeline(\"zero-shot-classification\", model=\"facebook/bart-large-mnli\")"
   ]
  },
  {
   "cell_type": "code",
   "execution_count": 54,
   "id": "79f9489f-4b45-4bc0-b6ba-219aca31b160",
   "metadata": {
    "tags": []
   },
   "outputs": [],
   "source": [
    "tool_labels = [\"Lenovo ThinkPad laptop\", \"Epson printer\", \"Chat\", \"Search\"]"
   ]
  },
  {
   "cell_type": "code",
   "execution_count": 57,
   "id": "cef58f19-e437-4540-a696-49d379426040",
   "metadata": {
    "tags": []
   },
   "outputs": [
    {
     "name": "stdout",
     "output_type": "stream",
     "text": [
      "{'sequence': 'how do I switch off my Epson printer?', 'labels': ['Epson printer', 'Search', 'Chat', 'Lenovo ThinkPad laptop'], 'scores': [0.9307340979576111, 0.03484595939517021, 0.030018631368875504, 0.004401261918246746]}\n"
     ]
    }
   ],
   "source": [
    "input_query = input(\"Enter query:\")\n",
    "tool_selected = classifier(input_query, tool_labels, truncation=True)\n",
    "print(tool_selected)"
   ]
  },
  {
   "cell_type": "code",
   "execution_count": 58,
   "id": "e1cee7cd-d31f-47f2-bb02-6b27517bd775",
   "metadata": {
    "tags": []
   },
   "outputs": [],
   "source": [
    "from langchain.memory import ConversationBufferMemory\n",
    "memory = ConversationBufferMemory(memory_key=\"chat_history\", input_key=\"human_input\")"
   ]
  },
  {
   "cell_type": "code",
   "execution_count": 66,
   "id": "1184673b-f6e2-404f-9686-2c9580bf5ee9",
   "metadata": {
    "tags": []
   },
   "outputs": [],
   "source": [
    "chat_prompt_template = \"\"\"You are a chatbot having a conversation with a human.\n",
    "\n",
    "{chat_history}\n",
    "Human: {human_input}\n",
    "AI: \"\"\"\n",
    "\n",
    "CHAT_PROMPT = PromptTemplate(\n",
    "    input_variables=[\"chat_history\", \"human_input\"], template=chat_prompt_template\n",
    ")\n",
    "\n",
    "chat_tool = LLMChain(\n",
    "    llm=llm,\n",
    "    prompt=CHAT_PROMPT,\n",
    "    memory=memory\n",
    ")"
   ]
  },
  {
   "cell_type": "code",
   "execution_count": 67,
   "id": "16cdb741-4e36-46ff-a76a-b3a3d8e733fb",
   "metadata": {
    "tags": []
   },
   "outputs": [],
   "source": [
    "conversationqa_prompt_template = \"\"\"You are a chatbot having a conversation with a human.\n",
    "Given the following context, answer the question. If the context provided does not contain sufficient information to answer the question, say \"Sorry, I do not have enough knowledge to answer your question.\".\n",
    "\n",
    "Context:\n",
    "{context}\n",
    "\n",
    "{chat_history}\n",
    "Human: {human_input}\n",
    "AI:\"\"\"\n",
    "\n",
    "CONVERSATIONQA_PROMPT = PromptTemplate(\n",
    "    input_variables=[\"chat_history\", \"human_input\", \"context\"], template=conversationqa_prompt_template\n",
    ")\n",
    "\n",
    "converseqa = load_qa_chain(\n",
    "    llm=llm, \n",
    "    chain_type=\"stuff\",  \n",
    "    prompt=CONVERSATION_PROMPT,\n",
    "    memory=memory\n",
    ")"
   ]
  },
  {
   "cell_type": "code",
   "execution_count": null,
   "id": "eb713600-26f6-43d9-9266-7b1a173f2cdc",
   "metadata": {
    "tags": []
   },
   "outputs": [],
   "source": [
    "while True:\n",
    "    input_query = input(\"Enter query (quit() to end chat, reset() to reset chat history):\")\n",
    "    if input_query == \"quit()\":\n",
    "        break\n",
    "    elif input_query == \"reset()\":\n",
    "        memory.clear()\n",
    "        continue\n",
    "    else:\n",
    "        classifier_output = classifier(input_query, tool_labels, truncation=True)\n",
    "        tool_selected = classifier_output[\"labels\"][0]\n",
    "        tool_confidence = classifier_output[\"scores\"][0]\n",
    "        if tool_selected == \"Lenovo ThinkPad laptop\":\n",
    "            chat_docs = docsearch.similarity_search(input_query, k=1)\n",
    "            output = converseqa({\"input_documents\": chat_docs, \"human_input\": input_query})[\"output_text\"]\n",
    "        elif tool_selected == \"Epson printer\":\n",
    "            chat_docs = docsearch_epsonprinter.similarity_search(input_query, k=1)\n",
    "            output = converseqa({\"input_documents\": chat_docs, \"human_input\": input_query})[\"output_text\"]\n",
    "        elif tool_selected == \"Search\":\n",
    "            output = search.run(input_query)\n",
    "        else:\n",
    "            output = chat_tool.run(input_query)\n",
    "        print(f\"User: {input_query}\")\n",
    "        print(f\"tool: {tool_selected}\")\n",
    "        print(f\"Bot: {output}\")"
   ]
  },
  {
   "cell_type": "code",
   "execution_count": null,
   "id": "4062c547-0e57-4a90-864f-d3abf851befe",
   "metadata": {
    "tags": []
   },
   "outputs": [],
   "source": [
    "memory.load_memory_variables({})"
   ]
  },
  {
   "cell_type": "code",
   "execution_count": null,
   "id": "6bb5fa0d-c947-430e-a3f5-6205b96d8a4b",
   "metadata": {},
   "outputs": [],
   "source": []
  }
 ],
 "metadata": {
  "kernelspec": {
   "display_name": "Python 3 (ipykernel)",
   "language": "python",
   "name": "python3"
  },
  "language_info": {
   "codemirror_mode": {
    "name": "ipython",
    "version": 3
   },
   "file_extension": ".py",
   "mimetype": "text/x-python",
   "name": "python",
   "nbconvert_exporter": "python",
   "pygments_lexer": "ipython3",
   "version": "3.10.10"
  }
 },
 "nbformat": 4,
 "nbformat_minor": 5
}
